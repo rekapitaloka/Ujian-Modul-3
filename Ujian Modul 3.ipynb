{
 "cells": [
  {
   "cell_type": "code",
   "execution_count": 175,
   "metadata": {},
   "outputs": [],
   "source": [
    "import pandas as pd\n",
    "import numpy as np\n",
    "import seaborn as sns\n",
    "import matplotlib.pyplot as plt\n",
    "%matplotlib inline\n",
    "import warnings\n",
    "warnings.filterwarnings(\"ignore\")\n",
    "\n",
    "# PreProcessing\n",
    "from sklearn.compose import ColumnTransformer\n",
    "from sklearn.preprocessing import OneHotEncoder,RobustScaler,MinMaxScaler\n",
    "import category_encoders as ce\n",
    "from sklearn.pipeline import Pipeline\n",
    "from sklearn.impute import SimpleImputer\n",
    "\n",
    "# Splitting Data\n",
    "from sklearn.model_selection import train_test_split, StratifiedKFold, cross_val_score\n",
    "\n",
    "# Resampling\n",
    "from imblearn.over_sampling import RandomOverSampler, SMOTE\n",
    "from imblearn.under_sampling import RandomUnderSampler, NearMiss\n",
    "from imblearn.combine import SMOTETomek\n",
    "from imblearn.pipeline import Pipeline\n",
    "\n",
    "# Modeling, Fitting and Evaluation\n",
    "from sklearn.linear_model import LogisticRegression\n",
    "from sklearn.metrics import classification_report, precision_score, roc_auc_score, plot_roc_curve,recall_score\n",
    "from sklearn.tree import DecisionTreeClassifier\n",
    "from sklearn.neighbors import KNeighborsClassifier\n",
    "from sklearn.preprocessing import StandardScaler\n",
    "from sklearn.model_selection import RandomizedSearchCV\n",
    "from sklearn.ensemble import RandomForestClassifier\n",
    "\n",
    "import joblib"
   ]
  },
  {
   "cell_type": "markdown",
   "metadata": {},
   "source": [
    "# EDA"
   ]
  },
  {
   "cell_type": "raw",
   "metadata": {},
   "source": [
    "Jalankan Exploratory Data Analysis untuk:\n",
    "\n",
    "Memahami profil tamu/konsumen hotel (customer profiling).\n",
    "Memahami kebiasaan tamu/konsumen hotel (customer behavior).\n",
    "Berikan penjelasan tentang insight yang Anda temukan dari hasil Exploratory Data Analysis ke manajemen hotel!"
   ]
  },
  {
   "cell_type": "code",
   "execution_count": 54,
   "metadata": {},
   "outputs": [],
   "source": [
    "data = pd.read_csv(\"hotel_bookings.csv\") #import file"
   ]
  },
  {
   "cell_type": "code",
   "execution_count": 117,
   "metadata": {},
   "outputs": [
    {
     "data": {
      "text/html": [
       "<div>\n",
       "<style scoped>\n",
       "    .dataframe tbody tr th:only-of-type {\n",
       "        vertical-align: middle;\n",
       "    }\n",
       "\n",
       "    .dataframe tbody tr th {\n",
       "        vertical-align: top;\n",
       "    }\n",
       "\n",
       "    .dataframe thead th {\n",
       "        text-align: right;\n",
       "    }\n",
       "</style>\n",
       "<table border=\"1\" class=\"dataframe\">\n",
       "  <thead>\n",
       "    <tr style=\"text-align: right;\">\n",
       "      <th></th>\n",
       "      <th>hotel</th>\n",
       "      <th>is_canceled</th>\n",
       "      <th>adults</th>\n",
       "      <th>children</th>\n",
       "      <th>babies</th>\n",
       "      <th>meal</th>\n",
       "      <th>country</th>\n",
       "      <th>market_segment</th>\n",
       "      <th>distribution_channel</th>\n",
       "      <th>reserved_room_type</th>\n",
       "      <th>booking_changes</th>\n",
       "      <th>deposit_type</th>\n",
       "      <th>days_in_waiting_list</th>\n",
       "      <th>customer_type</th>\n",
       "      <th>required_car_parking_spaces</th>\n",
       "      <th>total_of_special_requests</th>\n",
       "    </tr>\n",
       "  </thead>\n",
       "  <tbody>\n",
       "    <tr>\n",
       "      <th>0</th>\n",
       "      <td>Resort Hotel</td>\n",
       "      <td>0</td>\n",
       "      <td>2</td>\n",
       "      <td>0.0</td>\n",
       "      <td>0</td>\n",
       "      <td>BB</td>\n",
       "      <td>PRT</td>\n",
       "      <td>Direct</td>\n",
       "      <td>Direct</td>\n",
       "      <td>C</td>\n",
       "      <td>3</td>\n",
       "      <td>No Deposit</td>\n",
       "      <td>0</td>\n",
       "      <td>Transient</td>\n",
       "      <td>0</td>\n",
       "      <td>0</td>\n",
       "    </tr>\n",
       "    <tr>\n",
       "      <th>1</th>\n",
       "      <td>Resort Hotel</td>\n",
       "      <td>0</td>\n",
       "      <td>2</td>\n",
       "      <td>0.0</td>\n",
       "      <td>0</td>\n",
       "      <td>BB</td>\n",
       "      <td>PRT</td>\n",
       "      <td>Direct</td>\n",
       "      <td>Direct</td>\n",
       "      <td>C</td>\n",
       "      <td>4</td>\n",
       "      <td>No Deposit</td>\n",
       "      <td>0</td>\n",
       "      <td>Transient</td>\n",
       "      <td>0</td>\n",
       "      <td>0</td>\n",
       "    </tr>\n",
       "    <tr>\n",
       "      <th>2</th>\n",
       "      <td>Resort Hotel</td>\n",
       "      <td>0</td>\n",
       "      <td>1</td>\n",
       "      <td>0.0</td>\n",
       "      <td>0</td>\n",
       "      <td>BB</td>\n",
       "      <td>GBR</td>\n",
       "      <td>Direct</td>\n",
       "      <td>Direct</td>\n",
       "      <td>A</td>\n",
       "      <td>0</td>\n",
       "      <td>No Deposit</td>\n",
       "      <td>0</td>\n",
       "      <td>Transient</td>\n",
       "      <td>0</td>\n",
       "      <td>0</td>\n",
       "    </tr>\n",
       "    <tr>\n",
       "      <th>3</th>\n",
       "      <td>Resort Hotel</td>\n",
       "      <td>0</td>\n",
       "      <td>1</td>\n",
       "      <td>0.0</td>\n",
       "      <td>0</td>\n",
       "      <td>BB</td>\n",
       "      <td>GBR</td>\n",
       "      <td>Corporate</td>\n",
       "      <td>Corporate</td>\n",
       "      <td>A</td>\n",
       "      <td>0</td>\n",
       "      <td>No Deposit</td>\n",
       "      <td>0</td>\n",
       "      <td>Transient</td>\n",
       "      <td>0</td>\n",
       "      <td>0</td>\n",
       "    </tr>\n",
       "    <tr>\n",
       "      <th>4</th>\n",
       "      <td>Resort Hotel</td>\n",
       "      <td>0</td>\n",
       "      <td>2</td>\n",
       "      <td>0.0</td>\n",
       "      <td>0</td>\n",
       "      <td>BB</td>\n",
       "      <td>GBR</td>\n",
       "      <td>Online TA</td>\n",
       "      <td>TA/TO</td>\n",
       "      <td>A</td>\n",
       "      <td>0</td>\n",
       "      <td>No Deposit</td>\n",
       "      <td>0</td>\n",
       "      <td>Transient</td>\n",
       "      <td>0</td>\n",
       "      <td>1</td>\n",
       "    </tr>\n",
       "    <tr>\n",
       "      <th>...</th>\n",
       "      <td>...</td>\n",
       "      <td>...</td>\n",
       "      <td>...</td>\n",
       "      <td>...</td>\n",
       "      <td>...</td>\n",
       "      <td>...</td>\n",
       "      <td>...</td>\n",
       "      <td>...</td>\n",
       "      <td>...</td>\n",
       "      <td>...</td>\n",
       "      <td>...</td>\n",
       "      <td>...</td>\n",
       "      <td>...</td>\n",
       "      <td>...</td>\n",
       "      <td>...</td>\n",
       "      <td>...</td>\n",
       "    </tr>\n",
       "    <tr>\n",
       "      <th>4995</th>\n",
       "      <td>Resort Hotel</td>\n",
       "      <td>1</td>\n",
       "      <td>2</td>\n",
       "      <td>0.0</td>\n",
       "      <td>0</td>\n",
       "      <td>HB</td>\n",
       "      <td>PRT</td>\n",
       "      <td>Groups</td>\n",
       "      <td>Direct</td>\n",
       "      <td>D</td>\n",
       "      <td>0</td>\n",
       "      <td>Non Refund</td>\n",
       "      <td>0</td>\n",
       "      <td>Transient</td>\n",
       "      <td>0</td>\n",
       "      <td>0</td>\n",
       "    </tr>\n",
       "    <tr>\n",
       "      <th>4996</th>\n",
       "      <td>Resort Hotel</td>\n",
       "      <td>1</td>\n",
       "      <td>2</td>\n",
       "      <td>0.0</td>\n",
       "      <td>0</td>\n",
       "      <td>HB</td>\n",
       "      <td>PRT</td>\n",
       "      <td>Groups</td>\n",
       "      <td>Direct</td>\n",
       "      <td>D</td>\n",
       "      <td>0</td>\n",
       "      <td>Non Refund</td>\n",
       "      <td>0</td>\n",
       "      <td>Transient</td>\n",
       "      <td>0</td>\n",
       "      <td>0</td>\n",
       "    </tr>\n",
       "    <tr>\n",
       "      <th>4997</th>\n",
       "      <td>Resort Hotel</td>\n",
       "      <td>1</td>\n",
       "      <td>2</td>\n",
       "      <td>0.0</td>\n",
       "      <td>0</td>\n",
       "      <td>HB</td>\n",
       "      <td>PRT</td>\n",
       "      <td>Groups</td>\n",
       "      <td>Direct</td>\n",
       "      <td>A</td>\n",
       "      <td>0</td>\n",
       "      <td>Non Refund</td>\n",
       "      <td>0</td>\n",
       "      <td>Transient</td>\n",
       "      <td>0</td>\n",
       "      <td>0</td>\n",
       "    </tr>\n",
       "    <tr>\n",
       "      <th>4998</th>\n",
       "      <td>Resort Hotel</td>\n",
       "      <td>1</td>\n",
       "      <td>2</td>\n",
       "      <td>0.0</td>\n",
       "      <td>0</td>\n",
       "      <td>HB</td>\n",
       "      <td>PRT</td>\n",
       "      <td>Groups</td>\n",
       "      <td>Direct</td>\n",
       "      <td>A</td>\n",
       "      <td>0</td>\n",
       "      <td>Non Refund</td>\n",
       "      <td>0</td>\n",
       "      <td>Transient</td>\n",
       "      <td>0</td>\n",
       "      <td>0</td>\n",
       "    </tr>\n",
       "    <tr>\n",
       "      <th>4999</th>\n",
       "      <td>Resort Hotel</td>\n",
       "      <td>1</td>\n",
       "      <td>2</td>\n",
       "      <td>0.0</td>\n",
       "      <td>0</td>\n",
       "      <td>HB</td>\n",
       "      <td>PRT</td>\n",
       "      <td>Groups</td>\n",
       "      <td>Direct</td>\n",
       "      <td>D</td>\n",
       "      <td>0</td>\n",
       "      <td>Non Refund</td>\n",
       "      <td>0</td>\n",
       "      <td>Transient</td>\n",
       "      <td>0</td>\n",
       "      <td>0</td>\n",
       "    </tr>\n",
       "  </tbody>\n",
       "</table>\n",
       "<p>5000 rows × 16 columns</p>\n",
       "</div>"
      ],
      "text/plain": [
       "             hotel  is_canceled  adults  children  babies meal country  \\\n",
       "0     Resort Hotel            0       2       0.0       0   BB     PRT   \n",
       "1     Resort Hotel            0       2       0.0       0   BB     PRT   \n",
       "2     Resort Hotel            0       1       0.0       0   BB     GBR   \n",
       "3     Resort Hotel            0       1       0.0       0   BB     GBR   \n",
       "4     Resort Hotel            0       2       0.0       0   BB     GBR   \n",
       "...            ...          ...     ...       ...     ...  ...     ...   \n",
       "4995  Resort Hotel            1       2       0.0       0   HB     PRT   \n",
       "4996  Resort Hotel            1       2       0.0       0   HB     PRT   \n",
       "4997  Resort Hotel            1       2       0.0       0   HB     PRT   \n",
       "4998  Resort Hotel            1       2       0.0       0   HB     PRT   \n",
       "4999  Resort Hotel            1       2       0.0       0   HB     PRT   \n",
       "\n",
       "     market_segment distribution_channel reserved_room_type  booking_changes  \\\n",
       "0            Direct               Direct                  C                3   \n",
       "1            Direct               Direct                  C                4   \n",
       "2            Direct               Direct                  A                0   \n",
       "3         Corporate            Corporate                  A                0   \n",
       "4         Online TA                TA/TO                  A                0   \n",
       "...             ...                  ...                ...              ...   \n",
       "4995         Groups               Direct                  D                0   \n",
       "4996         Groups               Direct                  D                0   \n",
       "4997         Groups               Direct                  A                0   \n",
       "4998         Groups               Direct                  A                0   \n",
       "4999         Groups               Direct                  D                0   \n",
       "\n",
       "     deposit_type  days_in_waiting_list customer_type  \\\n",
       "0      No Deposit                     0     Transient   \n",
       "1      No Deposit                     0     Transient   \n",
       "2      No Deposit                     0     Transient   \n",
       "3      No Deposit                     0     Transient   \n",
       "4      No Deposit                     0     Transient   \n",
       "...           ...                   ...           ...   \n",
       "4995   Non Refund                     0     Transient   \n",
       "4996   Non Refund                     0     Transient   \n",
       "4997   Non Refund                     0     Transient   \n",
       "4998   Non Refund                     0     Transient   \n",
       "4999   Non Refund                     0     Transient   \n",
       "\n",
       "      required_car_parking_spaces  total_of_special_requests  \n",
       "0                               0                          0  \n",
       "1                               0                          0  \n",
       "2                               0                          0  \n",
       "3                               0                          0  \n",
       "4                               0                          1  \n",
       "...                           ...                        ...  \n",
       "4995                            0                          0  \n",
       "4996                            0                          0  \n",
       "4997                            0                          0  \n",
       "4998                            0                          0  \n",
       "4999                            0                          0  \n",
       "\n",
       "[5000 rows x 16 columns]"
      ]
     },
     "execution_count": 117,
     "metadata": {},
     "output_type": "execute_result"
    }
   ],
   "source": [
    "data_eda=data[['hotel','is_canceled','adults','children','babies','meal','country','market_segment','distribution_channel','reserved_room_type','booking_changes','deposit_type','days_in_waiting_list','customer_type','required_car_parking_spaces','total_of_special_requests']].loc[:4999]\n",
    "data_eda #pemilihan column utk eda proses"
   ]
  },
  {
   "cell_type": "code",
   "execution_count": 58,
   "metadata": {},
   "outputs": [
    {
     "name": "stdout",
     "output_type": "stream",
     "text": [
      "<class 'pandas.core.frame.DataFrame'>\n",
      "RangeIndex: 5000 entries, 0 to 4999\n",
      "Data columns (total 16 columns):\n",
      " #   Column                       Non-Null Count  Dtype  \n",
      "---  ------                       --------------  -----  \n",
      " 0   hotel                        5000 non-null   object \n",
      " 1   is_canceled                  5000 non-null   int64  \n",
      " 2   adults                       5000 non-null   int64  \n",
      " 3   children                     5000 non-null   float64\n",
      " 4   babies                       5000 non-null   int64  \n",
      " 5   meal                         5000 non-null   object \n",
      " 6   country                      4998 non-null   object \n",
      " 7   market_segment               5000 non-null   object \n",
      " 8   distribution_channel         5000 non-null   object \n",
      " 9   reserved_room_type           5000 non-null   object \n",
      " 10  booking_changes              5000 non-null   int64  \n",
      " 11  deposit_type                 5000 non-null   object \n",
      " 12  days_in_waiting_list         5000 non-null   int64  \n",
      " 13  customer_type                5000 non-null   object \n",
      " 14  required_car_parking_spaces  5000 non-null   int64  \n",
      " 15  required_car_parking_spaces  5000 non-null   int64  \n",
      "dtypes: float64(1), int64(7), object(8)\n",
      "memory usage: 625.1+ KB\n"
     ]
    }
   ],
   "source": [
    "data_eda.info() #cek type column"
   ]
  },
  {
   "cell_type": "markdown",
   "metadata": {},
   "source": [
    "**Profil Tamu**"
   ]
  },
  {
   "cell_type": "code",
   "execution_count": 156,
   "metadata": {},
   "outputs": [],
   "source": [
    "data_profil=data_eda[['is_canceled','customer_type','adults','children','babies','country','market_segment']]"
   ]
  },
  {
   "cell_type": "code",
   "execution_count": null,
   "metadata": {},
   "outputs": [],
   "source": [
    "#pengambilan column utk profil "
   ]
  },
  {
   "cell_type": "code",
   "execution_count": 157,
   "metadata": {},
   "outputs": [],
   "source": [
    "#fungsi visualisasi \n",
    "def plot_bar(column):\n",
    "    # temp df \n",
    "    temp_1 = pd.DataFrame()\n",
    "    # count categorical values\n",
    "    temp_1['no'] = data_profil[data_profil['is_canceled'] == 0.0][column].value_counts()\n",
    "    temp_1['yes'] = data_profil[data_profil['is_canceled'] == 1.0][column].value_counts()\n",
    "    temp_1.plot(kind='bar')\n",
    "    plt.xlabel(f'{column}')\n",
    "    plt.ylabel('number of people')\n",
    "    plt.title('Distribution of {} and Target'.format(column))\n",
    "    plt.show()"
   ]
  },
  {
   "cell_type": "code",
   "execution_count": 158,
   "metadata": {},
   "outputs": [],
   "source": [
    "#fungsi perhitungan perbandingan antara no : yes\n",
    "def perbandingan(column):\n",
    "    # count categorical values\n",
    "    no = data_profil[data_profil['is_canceled'] == 0.0][column].value_counts()\n",
    "    yes = data_profil[data_profil['is_canceled'] == 1.0][column].value_counts()\n",
    "    count = no/yes\n",
    "    category = pd.DataFrame(count)\n",
    "    categoryy = category.sort_values(by=[column])\n",
    "    print (categoryy)"
   ]
  },
  {
   "cell_type": "code",
   "execution_count": 159,
   "metadata": {},
   "outputs": [
    {
     "data": {
      "text/plain": [
       "['adults', 'children', 'babies']"
      ]
     },
     "execution_count": 159,
     "metadata": {},
     "output_type": "execute_result"
    }
   ],
   "source": [
    "#pengambilan column numeric\n",
    "col_obj_numer= list(data_profil.select_dtypes(['int64','float64']).columns.drop(['is_canceled']))\n",
    "col_obj_numer"
   ]
  },
  {
   "cell_type": "code",
   "execution_count": 160,
   "metadata": {},
   "outputs": [
    {
     "data": {
      "image/png": "[encoded data removed]",
      "text/plain": [
       "<Figure size 432x288 with 1 Axes>"
      ]
     },
     "metadata": {
      "needs_background": "light"
     },
     "output_type": "display_data"
    },
    {
     "data": {
      "image/png": "[encoded data removed]",
      "text/plain": [
       "<Figure size 432x288 with 1 Axes>"
      ]
     },
     "metadata": {
      "needs_background": "light"
     },
     "output_type": "display_data"
    },
    {
     "data": {
      "image/png": "[encoded data removed]",
      "text/plain": [
       "<Figure size 432x288 with 1 Axes>"
      ]
     },
     "metadata": {
      "needs_background": "light"
     },
     "output_type": "display_data"
    }
   ],
   "source": [
    "for i in col_obj_numer:\n",
    "    plot_bar(i)"
   ]
  },
  {
   "cell_type": "code",
   "execution_count": 161,
   "metadata": {},
   "outputs": [
    {
     "name": "stdout",
     "output_type": "stream",
     "text": [
      "      adults\n",
      "1   1.130293\n",
      "2   1.172216\n",
      "3   1.862745\n",
      "4   2.000000\n",
      "0   5.000000\n",
      "5        NaN\n",
      "6        NaN\n",
      "10       NaN\n",
      "20       NaN\n",
      "26       NaN\n",
      "27       NaN\n",
      "40       NaN\n",
      "50       NaN\n",
      "55       NaN\n",
      "\n",
      "###########\n",
      "      children\n",
      "2.0   0.830189\n",
      "0.0   1.181604\n",
      "1.0   1.535211\n",
      "10.0       NaN\n",
      "\n",
      "###########\n",
      "    babies\n",
      "0  1.16762\n",
      "1  1.88000\n",
      "2      NaN\n",
      "\n",
      "###########\n"
     ]
    }
   ],
   "source": [
    "#perbandingan col numeric \n",
    "for i in col_obj_numer:\n",
    "    perbandingan(i)\n",
    "    print('\\n###########')"
   ]
  },
  {
   "cell_type": "code",
   "execution_count": 162,
   "metadata": {},
   "outputs": [
    {
     "data": {
      "text/plain": [
       "['customer_type', 'country', 'market_segment']"
      ]
     },
     "execution_count": 162,
     "metadata": {},
     "output_type": "execute_result"
    }
   ],
   "source": [
    "col_obj_cat= list(data_profil.select_dtypes(['object']))\n",
    "col_obj_cat"
   ]
  },
  {
   "cell_type": "code",
   "execution_count": 163,
   "metadata": {},
   "outputs": [
    {
     "data": {
      "image/png": "[encoded data removed]",
      "text/plain": [
       "<Figure size 432x288 with 1 Axes>"
      ]
     },
     "metadata": {
      "needs_background": "light"
     },
     "output_type": "display_data"
    },
    {
     "data": {
      "image/png": "[encoded data removed]",
      "text/plain": [
       "<Figure size 432x288 with 1 Axes>"
      ]
     },
     "metadata": {
      "needs_background": "light"
     },
     "output_type": "display_data"
    },
    {
     "data": {
      "image/png": "[encoded data removed]",
      "text/plain": [
       "<Figure size 432x288 with 1 Axes>"
      ]
     },
     "metadata": {
      "needs_background": "light"
     },
     "output_type": "display_data"
    }
   ],
   "source": [
    "#visualisasi col Category\n",
    "for i in col_obj_cat:\n",
    "    plot_bar(i)"
   ]
  },
  {
   "cell_type": "code",
   "execution_count": 115,
   "metadata": {},
   "outputs": [
    {
     "name": "stdout",
     "output_type": "stream",
     "text": [
      "      adults\n",
      "1   1.130293\n",
      "2   1.172216\n",
      "3   1.862745\n",
      "4   2.000000\n",
      "0   5.000000\n",
      "5        NaN\n",
      "6        NaN\n",
      "10       NaN\n",
      "20       NaN\n",
      "26       NaN\n",
      "27       NaN\n",
      "40       NaN\n",
      "50       NaN\n",
      "55       NaN\n",
      "\n",
      "###########\n",
      "      children\n",
      "2.0   0.830189\n",
      "0.0   1.181604\n",
      "1.0   1.535211\n",
      "10.0       NaN\n",
      "\n",
      "###########\n",
      "    babies\n",
      "0  1.16762\n",
      "1  1.88000\n",
      "2      NaN\n",
      "\n",
      "###########\n"
     ]
    }
   ],
   "source": [
    "#perbandingan col category\n",
    "for i in col_obj_cat:\n",
    "    perbandingan(i)\n",
    "    print('\\n###########')"
   ]
  },
  {
   "cell_type": "markdown",
   "metadata": {},
   "source": [
    "**Kesimpulan Data Profil X Target**\n",
    ">*ADULT X Target:\n",
    "*kebanyakan pengunjung membawa anak sebanayak 2anak,pengunjung yang tidak membawa adult cenderung tidak membatalkan reservasi hotel. dan pengunjung hotel \n",
    "\n",
    ">*Children X Target :\n",
    "*pengunjung yang reservasi dengan jumlah anak kecil 2 lebih cenderung untuk membatalkan booking dibanding yang jumlah anak =1.hal ini bisa disebabkan karena pembatalan pergi/liburan karena alasan pribadi yang mnyangkut anak kecil(misal :sakit) ,pengunjung didominasi oleh orang-orang yang tidak membawa anak kecil.\n",
    "\n",
    ">* Babies X Target :\n",
    "*pengunjung yang reservasi dengan tidak mencantumkan jumlah babies /0 cenderung membatalkan pesanan. pengunjung didominasi oleh pengunjung yang tidak membawa bayi. hal ini bisa menjadi catatan khusus untuk mentreatmen khusus orang-orang yang mencantumkan jumlah bayi agar lebih nyaman dan tidak membatalkan booking\n",
    "\n",
    ">*Customr_type X Target:\n",
    "*Pengunjung group dan transient lebih cenderung membatalkan booking, bahkan nilai perbandingannya sangat besar. sehingga bisa dievaluasi kembali pelayanan yang tepat untuk pengunjung group dan transient, serta penambhan pelayanan agar meningkatkan pengunjung group,terlebih pengunjung hotel didominasi oleh tipe transient.\n",
    "\n",
    ">*CountryX Target:\n",
    "*pengunjung yang berasal dari country dengan kode FRA lebih cenderung tidak membatalkan reservasi dan dari country PRT cenderung membatalkan reservasi. \n",
    "\n",
    ">*market_segment X Target :\n",
    "*pengunjung dengan segment groups lebih cenderung membatalkan reservasi, hal ini linier dengan customer type. sehingga memang diperlukan treatmen khusus untuk customer group\n"
   ]
  },
  {
   "cell_type": "markdown",
   "metadata": {},
   "source": [
    "**Behavior**"
   ]
  },
  {
   "cell_type": "code",
   "execution_count": 138,
   "metadata": {},
   "outputs": [],
   "source": [
    "data_behavior=data_eda[['is_canceled','meal','reserved_room_type','booking_changes','required_car_parking_spaces','deposit_type','total_of_special_requests','days_in_waiting_list']]"
   ]
  },
  {
   "cell_type": "code",
   "execution_count": null,
   "metadata": {},
   "outputs": [],
   "source": [
    "#pengambilan column utk behavior"
   ]
  },
  {
   "cell_type": "code",
   "execution_count": 139,
   "metadata": {},
   "outputs": [
    {
     "data": {
      "text/html": [
       "<div>\n",
       "<style scoped>\n",
       "    .dataframe tbody tr th:only-of-type {\n",
       "        vertical-align: middle;\n",
       "    }\n",
       "\n",
       "    .dataframe tbody tr th {\n",
       "        vertical-align: top;\n",
       "    }\n",
       "\n",
       "    .dataframe thead th {\n",
       "        text-align: right;\n",
       "    }\n",
       "</style>\n",
       "<table border=\"1\" class=\"dataframe\">\n",
       "  <thead>\n",
       "    <tr style=\"text-align: right;\">\n",
       "      <th></th>\n",
       "      <th>is_canceled</th>\n",
       "      <th>meal</th>\n",
       "      <th>reserved_room_type</th>\n",
       "      <th>booking_changes</th>\n",
       "      <th>required_car_parking_spaces</th>\n",
       "      <th>deposit_type</th>\n",
       "      <th>total_of_special_requests</th>\n",
       "      <th>days_in_waiting_list</th>\n",
       "    </tr>\n",
       "  </thead>\n",
       "  <tbody>\n",
       "    <tr>\n",
       "      <th>0</th>\n",
       "      <td>0</td>\n",
       "      <td>BB</td>\n",
       "      <td>C</td>\n",
       "      <td>3</td>\n",
       "      <td>0</td>\n",
       "      <td>No Deposit</td>\n",
       "      <td>0</td>\n",
       "      <td>0</td>\n",
       "    </tr>\n",
       "    <tr>\n",
       "      <th>1</th>\n",
       "      <td>0</td>\n",
       "      <td>BB</td>\n",
       "      <td>C</td>\n",
       "      <td>4</td>\n",
       "      <td>0</td>\n",
       "      <td>No Deposit</td>\n",
       "      <td>0</td>\n",
       "      <td>0</td>\n",
       "    </tr>\n",
       "    <tr>\n",
       "      <th>2</th>\n",
       "      <td>0</td>\n",
       "      <td>BB</td>\n",
       "      <td>A</td>\n",
       "      <td>0</td>\n",
       "      <td>0</td>\n",
       "      <td>No Deposit</td>\n",
       "      <td>0</td>\n",
       "      <td>0</td>\n",
       "    </tr>\n",
       "    <tr>\n",
       "      <th>3</th>\n",
       "      <td>0</td>\n",
       "      <td>BB</td>\n",
       "      <td>A</td>\n",
       "      <td>0</td>\n",
       "      <td>0</td>\n",
       "      <td>No Deposit</td>\n",
       "      <td>0</td>\n",
       "      <td>0</td>\n",
       "    </tr>\n",
       "    <tr>\n",
       "      <th>4</th>\n",
       "      <td>0</td>\n",
       "      <td>BB</td>\n",
       "      <td>A</td>\n",
       "      <td>0</td>\n",
       "      <td>0</td>\n",
       "      <td>No Deposit</td>\n",
       "      <td>1</td>\n",
       "      <td>0</td>\n",
       "    </tr>\n",
       "    <tr>\n",
       "      <th>...</th>\n",
       "      <td>...</td>\n",
       "      <td>...</td>\n",
       "      <td>...</td>\n",
       "      <td>...</td>\n",
       "      <td>...</td>\n",
       "      <td>...</td>\n",
       "      <td>...</td>\n",
       "      <td>...</td>\n",
       "    </tr>\n",
       "    <tr>\n",
       "      <th>4995</th>\n",
       "      <td>1</td>\n",
       "      <td>HB</td>\n",
       "      <td>D</td>\n",
       "      <td>0</td>\n",
       "      <td>0</td>\n",
       "      <td>Non Refund</td>\n",
       "      <td>0</td>\n",
       "      <td>0</td>\n",
       "    </tr>\n",
       "    <tr>\n",
       "      <th>4996</th>\n",
       "      <td>1</td>\n",
       "      <td>HB</td>\n",
       "      <td>D</td>\n",
       "      <td>0</td>\n",
       "      <td>0</td>\n",
       "      <td>Non Refund</td>\n",
       "      <td>0</td>\n",
       "      <td>0</td>\n",
       "    </tr>\n",
       "    <tr>\n",
       "      <th>4997</th>\n",
       "      <td>1</td>\n",
       "      <td>HB</td>\n",
       "      <td>A</td>\n",
       "      <td>0</td>\n",
       "      <td>0</td>\n",
       "      <td>Non Refund</td>\n",
       "      <td>0</td>\n",
       "      <td>0</td>\n",
       "    </tr>\n",
       "    <tr>\n",
       "      <th>4998</th>\n",
       "      <td>1</td>\n",
       "      <td>HB</td>\n",
       "      <td>A</td>\n",
       "      <td>0</td>\n",
       "      <td>0</td>\n",
       "      <td>Non Refund</td>\n",
       "      <td>0</td>\n",
       "      <td>0</td>\n",
       "    </tr>\n",
       "    <tr>\n",
       "      <th>4999</th>\n",
       "      <td>1</td>\n",
       "      <td>HB</td>\n",
       "      <td>D</td>\n",
       "      <td>0</td>\n",
       "      <td>0</td>\n",
       "      <td>Non Refund</td>\n",
       "      <td>0</td>\n",
       "      <td>0</td>\n",
       "    </tr>\n",
       "  </tbody>\n",
       "</table>\n",
       "<p>5000 rows × 8 columns</p>\n",
       "</div>"
      ],
      "text/plain": [
       "      is_canceled meal reserved_room_type  booking_changes  \\\n",
       "0               0   BB                  C                3   \n",
       "1               0   BB                  C                4   \n",
       "2               0   BB                  A                0   \n",
       "3               0   BB                  A                0   \n",
       "4               0   BB                  A                0   \n",
       "...           ...  ...                ...              ...   \n",
       "4995            1   HB                  D                0   \n",
       "4996            1   HB                  D                0   \n",
       "4997            1   HB                  A                0   \n",
       "4998            1   HB                  A                0   \n",
       "4999            1   HB                  D                0   \n",
       "\n",
       "      required_car_parking_spaces deposit_type  total_of_special_requests  \\\n",
       "0                               0   No Deposit                          0   \n",
       "1                               0   No Deposit                          0   \n",
       "2                               0   No Deposit                          0   \n",
       "3                               0   No Deposit                          0   \n",
       "4                               0   No Deposit                          1   \n",
       "...                           ...          ...                        ...   \n",
       "4995                            0   Non Refund                          0   \n",
       "4996                            0   Non Refund                          0   \n",
       "4997                            0   Non Refund                          0   \n",
       "4998                            0   Non Refund                          0   \n",
       "4999                            0   Non Refund                          0   \n",
       "\n",
       "      days_in_waiting_list  \n",
       "0                        0  \n",
       "1                        0  \n",
       "2                        0  \n",
       "3                        0  \n",
       "4                        0  \n",
       "...                    ...  \n",
       "4995                     0  \n",
       "4996                     0  \n",
       "4997                     0  \n",
       "4998                     0  \n",
       "4999                     0  \n",
       "\n",
       "[5000 rows x 8 columns]"
      ]
     },
     "execution_count": 139,
     "metadata": {},
     "output_type": "execute_result"
    }
   ],
   "source": [
    "data_behavior"
   ]
  },
  {
   "cell_type": "code",
   "execution_count": 140,
   "metadata": {},
   "outputs": [
    {
     "name": "stdout",
     "output_type": "stream",
     "text": [
      "<class 'pandas.core.frame.DataFrame'>\n",
      "RangeIndex: 5000 entries, 0 to 4999\n",
      "Data columns (total 8 columns):\n",
      " #   Column                       Non-Null Count  Dtype \n",
      "---  ------                       --------------  ----- \n",
      " 0   is_canceled                  5000 non-null   int64 \n",
      " 1   meal                         5000 non-null   object\n",
      " 2   reserved_room_type           5000 non-null   object\n",
      " 3   booking_changes              5000 non-null   int64 \n",
      " 4   required_car_parking_spaces  5000 non-null   int64 \n",
      " 5   deposit_type                 5000 non-null   object\n",
      " 6   total_of_special_requests    5000 non-null   int64 \n",
      " 7   days_in_waiting_list         5000 non-null   int64 \n",
      "dtypes: int64(5), object(3)\n",
      "memory usage: 312.6+ KB\n"
     ]
    }
   ],
   "source": [
    "data_behavior.info()"
   ]
  },
  {
   "cell_type": "code",
   "execution_count": 141,
   "metadata": {},
   "outputs": [],
   "source": [
    "#fungsi visulisasi beahvior\n",
    "def plot_bar2(column):\n",
    "    # temp df \n",
    "    temp_1 = pd.DataFrame()\n",
    "    # count categorical values\n",
    "    temp_1['no'] = data_behavior[data_behavior['is_canceled'] == 0.0][column].value_counts()\n",
    "    temp_1['yes'] = data_behavior[data_behavior['is_canceled'] == 1.0][column].value_counts()\n",
    "    temp_1.plot(kind='bar')\n",
    "    plt.xlabel(f'{column}')\n",
    "    plt.ylabel('number of people')\n",
    "    plt.title('Distribution of {} and Target'.format(column))\n",
    "    plt.show()"
   ]
  },
  {
   "cell_type": "code",
   "execution_count": 142,
   "metadata": {},
   "outputs": [],
   "source": [
    "#perbandingan nilai behavior antara no dan yes cancel\n",
    "def perbandingan2(column):\n",
    "    # count categorical values\n",
    "    no = data_behavior[data_behavior['is_canceled'] == 0.0][column].value_counts()\n",
    "    yes = data_behavior[data_behavior['is_canceled'] == 1.0][column].value_counts()\n",
    "    count = no/yes\n",
    "    category = pd.DataFrame(count)\n",
    "    categoryy = category.sort_values(by=[column])\n",
    "    print (categoryy)"
   ]
  },
  {
   "cell_type": "code",
   "execution_count": 147,
   "metadata": {},
   "outputs": [],
   "source": [
    "#pengambilan data numeric\n",
    "col_obj_numer2= list(data_behavior.select_dtypes(['int64']).columns.drop(['is_canceled']))"
   ]
  },
  {
   "cell_type": "code",
   "execution_count": 148,
   "metadata": {},
   "outputs": [
    {
     "data": {
      "image/png": "[encoded data removed]",
      "text/plain": [
       "<Figure size 432x288 with 1 Axes>"
      ]
     },
     "metadata": {
      "needs_background": "light"
     },
     "output_type": "display_data"
    },
    {
     "data": {
      "image/png": "[encoded data removed]",
      "text/plain": [
       "<Figure size 432x288 with 1 Axes>"
      ]
     },
     "metadata": {
      "needs_background": "light"
     },
     "output_type": "display_data"
    },
    {
     "data": {
      "image/png": "[encoded data removed]",
      "text/plain": [
       "<Figure size 432x288 with 1 Axes>"
      ]
     },
     "metadata": {
      "needs_background": "light"
     },
     "output_type": "display_data"
    },
    {
     "data": {
      "image/png": "[encoded data removed]",
      "text/plain": [
       "<Figure size 432x288 with 1 Axes>"
      ]
     },
     "metadata": {
      "needs_background": "light"
     },
     "output_type": "display_data"
    }
   ],
   "source": [
    "#visualisasi col numeric behavior\n",
    "for i in col_obj_numer2:\n",
    "    plot_bar(i)"
   ]
  },
  {
   "cell_type": "code",
   "execution_count": 152,
   "metadata": {},
   "outputs": [
    {
     "name": "stdout",
     "output_type": "stream",
     "text": [
      "    booking_changes\n",
      "0          0.995296\n",
      "1          2.803922\n",
      "3          6.750000\n",
      "4          8.000000\n",
      "2          8.230769\n",
      "5               NaN\n",
      "6               NaN\n",
      "17              NaN\n",
      "\n",
      "###########\n",
      "   required_car_parking_spaces\n",
      "0                     0.972585\n",
      "1                          NaN\n",
      "2                          NaN\n",
      "\n",
      "###########\n",
      "   total_of_special_requests\n",
      "0                   0.997963\n",
      "2                   1.346939\n",
      "1                   1.554639\n",
      "3                   1.750000\n",
      "4                   2.500000\n",
      "\n",
      "###########\n",
      "     days_in_waiting_list\n",
      "0                1.136324\n",
      "122             26.000000\n",
      "47                    NaN\n",
      "50                    NaN\n",
      "65                    NaN\n",
      "\n",
      "###########\n"
     ]
    }
   ],
   "source": [
    "#hitung perbandingan colm numeric\n",
    "for i in col_obj_numer2:\n",
    "    perbandingan(i)\n",
    "    print('\\n###########')"
   ]
  },
  {
   "cell_type": "code",
   "execution_count": 149,
   "metadata": {},
   "outputs": [
    {
     "data": {
      "text/plain": [
       "['meal', 'reserved_room_type', 'deposit_type']"
      ]
     },
     "execution_count": 149,
     "metadata": {},
     "output_type": "execute_result"
    }
   ],
   "source": [
    "#pengambilan column category\n",
    "col_obj_cat2= list(data_behavior.select_dtypes(['object']))\n",
    "col_obj_cat2"
   ]
  },
  {
   "cell_type": "code",
   "execution_count": 150,
   "metadata": {},
   "outputs": [
    {
     "data": {
      "image/png": "[encoded data removed]",
      "text/plain": [
       "<Figure size 432x288 with 1 Axes>"
      ]
     },
     "metadata": {
      "needs_background": "light"
     },
     "output_type": "display_data"
    },
    {
     "data": {
      "image/png": "[encoded data removed]",
      "text/plain": [
       "<Figure size 432x288 with 1 Axes>"
      ]
     },
     "metadata": {
      "needs_background": "light"
     },
     "output_type": "display_data"
    },
    {
     "data": {
      "image/png": "[encoded data removed]",
      "text/plain": [
       "<Figure size 432x288 with 1 Axes>"
      ]
     },
     "metadata": {
      "needs_background": "light"
     },
     "output_type": "display_data"
    }
   ],
   "source": [
    "#visualisasi Category\n",
    "for i in col_obj_cat2:\n",
    "    plot_bar(i)"
   ]
  },
  {
   "cell_type": "code",
   "execution_count": 153,
   "metadata": {},
   "outputs": [
    {
     "name": "stdout",
     "output_type": "stream",
     "text": [
      "                meal\n",
      "FB          0.490654\n",
      "HB          1.041339\n",
      "BB          1.250165\n",
      "Undefined   2.785714\n",
      "SC         13.000000\n",
      "\n",
      "###########\n",
      "   reserved_room_type\n",
      "H            0.800000\n",
      "G            0.898876\n",
      "A            1.087673\n",
      "E            1.327586\n",
      "D            1.420000\n",
      "C            1.725000\n",
      "L            2.000000\n",
      "F            2.060606\n",
      "P                 NaN\n",
      "\n",
      "###########\n",
      "            deposit_type\n",
      "Non Refund      0.089041\n",
      "No Deposit      1.408747\n",
      "Refundable      6.750000\n",
      "\n",
      "###########\n"
     ]
    }
   ],
   "source": [
    "#hitung perbandingan dr col category\n",
    "for i in col_obj_cat2:\n",
    "    perbandingan(i)\n",
    "    print('\\n###########')"
   ]
  },
  {
   "cell_type": "markdown",
   "metadata": {},
   "source": [
    "**KESIMPULAN BEHAVIOR**\n",
    ">* Booking_change X target :\n",
    "*pengunjung yang tidak melakukan booking change cenderung membatalkan reservasi dibandingkan pengunjung yang melakukan beberapa kali booking change. hal ini bisa disebabkan karena pengunjung yang melakukan bookingchange sudah nyaman karna apa yang diminta dan diinginkan bisa dipenuhi oleh hotel. dan pengunjung didominasi oleh pengunjung yang tidak melakukan booking change \n",
    "\n",
    ">* required_car_parking_spaces X Target:\n",
    "*pengunjung yang tidak meminta parking space lbh cenderung untuk membatalkan reservasi, dan pengunjung didominasi oleh orang-orang yang tidak meminta parking space, artinya banyak yang berkunjung tanpa membawa kendaraan pribadi\n",
    "\n",
    ">* Special Request X target :\n",
    "*pengunjung yang tidak meminta special request cenderung membatalkan reservasi dibandingkan yang banyak meminta special requst, hal ini linier dengan booking change. jadi hotel bisa lebih menawarkan specil request kepada setiap tamu yang di prediksi akan membatalkan reservasi. pengunjung didominasi oleh orang-orang yang tidak meminta special request\n",
    "\n",
    ">*days_in_waiting_list X Target:\n",
    "*pengunjung waiting list cenderung tidak membatalkan reservasi dibandingkan yang tidak memiliki waiting list, hal ini bisa disebabkan karena pengunjung waiting list telah merencanakan segala agenda dengan matang. dibandingkan yang tidak memiliki waiting list. pengunjung didominasi oleh orang-orang yang tidak waiting list\n",
    "\n",
    ">*Meal X target:\n",
    "*pengunjung dengan meal FB cenderung membatalkan request dibandingkan dengan yang lain, terlebh SC yang sangat cenderung untuk tidak membatalkan reservasi. namun pengunjung didominasi dengan meal BB yang masih memiliki kecenderungan untuk membatalkan requst namun tidak sebanyak FB, sehingga untuk pengunjung dengan meal FB lebih di treatmen. dan mempertahankan serta meningkatan treatmen ke pengunjung meal BB karena dia yg mendominasi.\n",
    "\n",
    ">*Reserved room X target :\n",
    "*pengunjung dengan type room H dan G cenderung membatalkan reservasi dibandingkan yang lain. hal ini bisa digunakan untuk evaluasi serta memperbaiki apa yang kurang dari room H berdasarkan saran dari pengunjung.\n",
    "\n",
    ">*deposit type X target:\n",
    "*pengnjung dengan deposite type non refund cenderung membatalkan reservasi dibandingkan yang refundable."
   ]
  },
  {
   "cell_type": "markdown",
   "metadata": {},
   "source": [
    "**SUMMARY EDA**"
   ]
  },
  {
   "cell_type": "markdown",
   "metadata": {},
   "source": [
    "**Profil**\n",
    "pengunjung didominasi dengan profil :\n",
    "Berasal dari kota PRT, dengan type transient, dengan tidak membawa bayi/anak kecil serta market segment online\n",
    "*dari profil ini serta bisa digunakan evaluasi untuk meningkatkan pengunjung dengan profil yang lain*\n",
    "\n",
    "**Behavior**\n",
    "pengunjung didominasi dengan kebiasaan :\n",
    "pesan makanan dengan tipe BB, dengan room A, tidak menggunakan deposit, tidak melalkukan booking change special request dan tidak waitinglist\n",
    "*dari kebiasaan yang telah diketahui bisa digunakan untuk meningkatkan pelayanan hotel agar pengunjung semakin nyaman*"
   ]
  },
  {
   "cell_type": "markdown",
   "metadata": {},
   "source": [
    "# B. Data Cleaning & Preprocessing (15 poin)"
   ]
  },
  {
   "cell_type": "raw",
   "metadata": {},
   "source": [
    "Jelaskan tahapan dan alasan untuk setiap langkah preprocessing yang Anda lakukan.\n",
    "\n",
    "Buatlah kode untuk preprocessing yang Anda lakukan dengan Pipeline, jika diperlukan, dan ColumnTransformer. Simpan kode tersebut di dalam variable transformer."
   ]
  },
  {
   "cell_type": "markdown",
   "metadata": {},
   "source": [
    "**Data**"
   ]
  },
  {
   "cell_type": "code",
   "execution_count": 2,
   "metadata": {},
   "outputs": [],
   "source": [
    "data = pd.read_csv(\"hotel_bookings.csv\")"
   ]
  },
  {
   "cell_type": "code",
   "execution_count": 3,
   "metadata": {},
   "outputs": [
    {
     "data": {
      "text/html": [
       "<div>\n",
       "<style scoped>\n",
       "    .dataframe tbody tr th:only-of-type {\n",
       "        vertical-align: middle;\n",
       "    }\n",
       "\n",
       "    .dataframe tbody tr th {\n",
       "        vertical-align: top;\n",
       "    }\n",
       "\n",
       "    .dataframe thead th {\n",
       "        text-align: right;\n",
       "    }\n",
       "</style>\n",
       "<table border=\"1\" class=\"dataframe\">\n",
       "  <thead>\n",
       "    <tr style=\"text-align: right;\">\n",
       "      <th></th>\n",
       "      <th>hotel</th>\n",
       "      <th>is_canceled</th>\n",
       "      <th>lead_time</th>\n",
       "      <th>arrival_date_year</th>\n",
       "      <th>arrival_date_month</th>\n",
       "      <th>arrival_date_week_number</th>\n",
       "      <th>arrival_date_day_of_month</th>\n",
       "      <th>stays_in_weekend_nights</th>\n",
       "      <th>stays_in_week_nights</th>\n",
       "      <th>adults</th>\n",
       "      <th>...</th>\n",
       "      <th>deposit_type</th>\n",
       "      <th>agent</th>\n",
       "      <th>company</th>\n",
       "      <th>days_in_waiting_list</th>\n",
       "      <th>customer_type</th>\n",
       "      <th>adr</th>\n",
       "      <th>required_car_parking_spaces</th>\n",
       "      <th>total_of_special_requests</th>\n",
       "      <th>reservation_status</th>\n",
       "      <th>reservation_status_date</th>\n",
       "    </tr>\n",
       "  </thead>\n",
       "  <tbody>\n",
       "    <tr>\n",
       "      <th>0</th>\n",
       "      <td>Resort Hotel</td>\n",
       "      <td>0</td>\n",
       "      <td>342</td>\n",
       "      <td>2015</td>\n",
       "      <td>July</td>\n",
       "      <td>27</td>\n",
       "      <td>1</td>\n",
       "      <td>0</td>\n",
       "      <td>0</td>\n",
       "      <td>2</td>\n",
       "      <td>...</td>\n",
       "      <td>No Deposit</td>\n",
       "      <td>NaN</td>\n",
       "      <td>NaN</td>\n",
       "      <td>0</td>\n",
       "      <td>Transient</td>\n",
       "      <td>0.0</td>\n",
       "      <td>0</td>\n",
       "      <td>0</td>\n",
       "      <td>Check-Out</td>\n",
       "      <td>2015-07-01</td>\n",
       "    </tr>\n",
       "    <tr>\n",
       "      <th>1</th>\n",
       "      <td>Resort Hotel</td>\n",
       "      <td>0</td>\n",
       "      <td>737</td>\n",
       "      <td>2015</td>\n",
       "      <td>July</td>\n",
       "      <td>27</td>\n",
       "      <td>1</td>\n",
       "      <td>0</td>\n",
       "      <td>0</td>\n",
       "      <td>2</td>\n",
       "      <td>...</td>\n",
       "      <td>No Deposit</td>\n",
       "      <td>NaN</td>\n",
       "      <td>NaN</td>\n",
       "      <td>0</td>\n",
       "      <td>Transient</td>\n",
       "      <td>0.0</td>\n",
       "      <td>0</td>\n",
       "      <td>0</td>\n",
       "      <td>Check-Out</td>\n",
       "      <td>2015-07-01</td>\n",
       "    </tr>\n",
       "    <tr>\n",
       "      <th>2</th>\n",
       "      <td>Resort Hotel</td>\n",
       "      <td>0</td>\n",
       "      <td>7</td>\n",
       "      <td>2015</td>\n",
       "      <td>July</td>\n",
       "      <td>27</td>\n",
       "      <td>1</td>\n",
       "      <td>0</td>\n",
       "      <td>1</td>\n",
       "      <td>1</td>\n",
       "      <td>...</td>\n",
       "      <td>No Deposit</td>\n",
       "      <td>NaN</td>\n",
       "      <td>NaN</td>\n",
       "      <td>0</td>\n",
       "      <td>Transient</td>\n",
       "      <td>75.0</td>\n",
       "      <td>0</td>\n",
       "      <td>0</td>\n",
       "      <td>Check-Out</td>\n",
       "      <td>2015-07-02</td>\n",
       "    </tr>\n",
       "    <tr>\n",
       "      <th>3</th>\n",
       "      <td>Resort Hotel</td>\n",
       "      <td>0</td>\n",
       "      <td>13</td>\n",
       "      <td>2015</td>\n",
       "      <td>July</td>\n",
       "      <td>27</td>\n",
       "      <td>1</td>\n",
       "      <td>0</td>\n",
       "      <td>1</td>\n",
       "      <td>1</td>\n",
       "      <td>...</td>\n",
       "      <td>No Deposit</td>\n",
       "      <td>304.0</td>\n",
       "      <td>NaN</td>\n",
       "      <td>0</td>\n",
       "      <td>Transient</td>\n",
       "      <td>75.0</td>\n",
       "      <td>0</td>\n",
       "      <td>0</td>\n",
       "      <td>Check-Out</td>\n",
       "      <td>2015-07-02</td>\n",
       "    </tr>\n",
       "    <tr>\n",
       "      <th>4</th>\n",
       "      <td>Resort Hotel</td>\n",
       "      <td>0</td>\n",
       "      <td>14</td>\n",
       "      <td>2015</td>\n",
       "      <td>July</td>\n",
       "      <td>27</td>\n",
       "      <td>1</td>\n",
       "      <td>0</td>\n",
       "      <td>2</td>\n",
       "      <td>2</td>\n",
       "      <td>...</td>\n",
       "      <td>No Deposit</td>\n",
       "      <td>240.0</td>\n",
       "      <td>NaN</td>\n",
       "      <td>0</td>\n",
       "      <td>Transient</td>\n",
       "      <td>98.0</td>\n",
       "      <td>0</td>\n",
       "      <td>1</td>\n",
       "      <td>Check-Out</td>\n",
       "      <td>2015-07-03</td>\n",
       "    </tr>\n",
       "  </tbody>\n",
       "</table>\n",
       "<p>5 rows × 32 columns</p>\n",
       "</div>"
      ],
      "text/plain": [
       "          hotel  is_canceled  lead_time  arrival_date_year arrival_date_month  \\\n",
       "0  Resort Hotel            0        342               2015               July   \n",
       "1  Resort Hotel            0        737               2015               July   \n",
       "2  Resort Hotel            0          7               2015               July   \n",
       "3  Resort Hotel            0         13               2015               July   \n",
       "4  Resort Hotel            0         14               2015               July   \n",
       "\n",
       "   arrival_date_week_number  arrival_date_day_of_month  \\\n",
       "0                        27                          1   \n",
       "1                        27                          1   \n",
       "2                        27                          1   \n",
       "3                        27                          1   \n",
       "4                        27                          1   \n",
       "\n",
       "   stays_in_weekend_nights  stays_in_week_nights  adults  ...  deposit_type  \\\n",
       "0                        0                     0       2  ...    No Deposit   \n",
       "1                        0                     0       2  ...    No Deposit   \n",
       "2                        0                     1       1  ...    No Deposit   \n",
       "3                        0                     1       1  ...    No Deposit   \n",
       "4                        0                     2       2  ...    No Deposit   \n",
       "\n",
       "   agent company days_in_waiting_list customer_type   adr  \\\n",
       "0    NaN     NaN                    0     Transient   0.0   \n",
       "1    NaN     NaN                    0     Transient   0.0   \n",
       "2    NaN     NaN                    0     Transient  75.0   \n",
       "3  304.0     NaN                    0     Transient  75.0   \n",
       "4  240.0     NaN                    0     Transient  98.0   \n",
       "\n",
       "   required_car_parking_spaces  total_of_special_requests  reservation_status  \\\n",
       "0                            0                          0           Check-Out   \n",
       "1                            0                          0           Check-Out   \n",
       "2                            0                          0           Check-Out   \n",
       "3                            0                          0           Check-Out   \n",
       "4                            0                          1           Check-Out   \n",
       "\n",
       "  reservation_status_date  \n",
       "0              2015-07-01  \n",
       "1              2015-07-01  \n",
       "2              2015-07-02  \n",
       "3              2015-07-02  \n",
       "4              2015-07-03  \n",
       "\n",
       "[5 rows x 32 columns]"
      ]
     },
     "execution_count": 3,
     "metadata": {},
     "output_type": "execute_result"
    }
   ],
   "source": [
    "data.head()"
   ]
  },
  {
   "cell_type": "code",
   "execution_count": 4,
   "metadata": {},
   "outputs": [
    {
     "data": {
      "text/html": [
       "<div>\n",
       "<style scoped>\n",
       "    .dataframe tbody tr th:only-of-type {\n",
       "        vertical-align: middle;\n",
       "    }\n",
       "\n",
       "    .dataframe tbody tr th {\n",
       "        vertical-align: top;\n",
       "    }\n",
       "\n",
       "    .dataframe thead th {\n",
       "        text-align: right;\n",
       "    }\n",
       "</style>\n",
       "<table border=\"1\" class=\"dataframe\">\n",
       "  <thead>\n",
       "    <tr style=\"text-align: right;\">\n",
       "      <th></th>\n",
       "      <th>hotel</th>\n",
       "      <th>is_canceled</th>\n",
       "      <th>adults</th>\n",
       "      <th>children</th>\n",
       "      <th>babies</th>\n",
       "      <th>meal</th>\n",
       "      <th>country</th>\n",
       "      <th>market_segment</th>\n",
       "      <th>distribution_channel</th>\n",
       "      <th>reserved_room_type</th>\n",
       "      <th>booking_changes</th>\n",
       "      <th>deposit_type</th>\n",
       "      <th>days_in_waiting_list</th>\n",
       "      <th>customer_type</th>\n",
       "      <th>required_car_parking_spaces</th>\n",
       "      <th>required_car_parking_spaces</th>\n",
       "    </tr>\n",
       "  </thead>\n",
       "  <tbody>\n",
       "    <tr>\n",
       "      <th>0</th>\n",
       "      <td>Resort Hotel</td>\n",
       "      <td>0</td>\n",
       "      <td>2</td>\n",
       "      <td>0.0</td>\n",
       "      <td>0</td>\n",
       "      <td>BB</td>\n",
       "      <td>PRT</td>\n",
       "      <td>Direct</td>\n",
       "      <td>Direct</td>\n",
       "      <td>C</td>\n",
       "      <td>3</td>\n",
       "      <td>No Deposit</td>\n",
       "      <td>0</td>\n",
       "      <td>Transient</td>\n",
       "      <td>0</td>\n",
       "      <td>0</td>\n",
       "    </tr>\n",
       "    <tr>\n",
       "      <th>1</th>\n",
       "      <td>Resort Hotel</td>\n",
       "      <td>0</td>\n",
       "      <td>2</td>\n",
       "      <td>0.0</td>\n",
       "      <td>0</td>\n",
       "      <td>BB</td>\n",
       "      <td>PRT</td>\n",
       "      <td>Direct</td>\n",
       "      <td>Direct</td>\n",
       "      <td>C</td>\n",
       "      <td>4</td>\n",
       "      <td>No Deposit</td>\n",
       "      <td>0</td>\n",
       "      <td>Transient</td>\n",
       "      <td>0</td>\n",
       "      <td>0</td>\n",
       "    </tr>\n",
       "    <tr>\n",
       "      <th>2</th>\n",
       "      <td>Resort Hotel</td>\n",
       "      <td>0</td>\n",
       "      <td>1</td>\n",
       "      <td>0.0</td>\n",
       "      <td>0</td>\n",
       "      <td>BB</td>\n",
       "      <td>GBR</td>\n",
       "      <td>Direct</td>\n",
       "      <td>Direct</td>\n",
       "      <td>A</td>\n",
       "      <td>0</td>\n",
       "      <td>No Deposit</td>\n",
       "      <td>0</td>\n",
       "      <td>Transient</td>\n",
       "      <td>0</td>\n",
       "      <td>0</td>\n",
       "    </tr>\n",
       "    <tr>\n",
       "      <th>3</th>\n",
       "      <td>Resort Hotel</td>\n",
       "      <td>0</td>\n",
       "      <td>1</td>\n",
       "      <td>0.0</td>\n",
       "      <td>0</td>\n",
       "      <td>BB</td>\n",
       "      <td>GBR</td>\n",
       "      <td>Corporate</td>\n",
       "      <td>Corporate</td>\n",
       "      <td>A</td>\n",
       "      <td>0</td>\n",
       "      <td>No Deposit</td>\n",
       "      <td>0</td>\n",
       "      <td>Transient</td>\n",
       "      <td>0</td>\n",
       "      <td>0</td>\n",
       "    </tr>\n",
       "    <tr>\n",
       "      <th>4</th>\n",
       "      <td>Resort Hotel</td>\n",
       "      <td>0</td>\n",
       "      <td>2</td>\n",
       "      <td>0.0</td>\n",
       "      <td>0</td>\n",
       "      <td>BB</td>\n",
       "      <td>GBR</td>\n",
       "      <td>Online TA</td>\n",
       "      <td>TA/TO</td>\n",
       "      <td>A</td>\n",
       "      <td>0</td>\n",
       "      <td>No Deposit</td>\n",
       "      <td>0</td>\n",
       "      <td>Transient</td>\n",
       "      <td>0</td>\n",
       "      <td>0</td>\n",
       "    </tr>\n",
       "    <tr>\n",
       "      <th>...</th>\n",
       "      <td>...</td>\n",
       "      <td>...</td>\n",
       "      <td>...</td>\n",
       "      <td>...</td>\n",
       "      <td>...</td>\n",
       "      <td>...</td>\n",
       "      <td>...</td>\n",
       "      <td>...</td>\n",
       "      <td>...</td>\n",
       "      <td>...</td>\n",
       "      <td>...</td>\n",
       "      <td>...</td>\n",
       "      <td>...</td>\n",
       "      <td>...</td>\n",
       "      <td>...</td>\n",
       "      <td>...</td>\n",
       "    </tr>\n",
       "    <tr>\n",
       "      <th>4995</th>\n",
       "      <td>Resort Hotel</td>\n",
       "      <td>1</td>\n",
       "      <td>2</td>\n",
       "      <td>0.0</td>\n",
       "      <td>0</td>\n",
       "      <td>HB</td>\n",
       "      <td>PRT</td>\n",
       "      <td>Groups</td>\n",
       "      <td>Direct</td>\n",
       "      <td>D</td>\n",
       "      <td>0</td>\n",
       "      <td>Non Refund</td>\n",
       "      <td>0</td>\n",
       "      <td>Transient</td>\n",
       "      <td>0</td>\n",
       "      <td>0</td>\n",
       "    </tr>\n",
       "    <tr>\n",
       "      <th>4996</th>\n",
       "      <td>Resort Hotel</td>\n",
       "      <td>1</td>\n",
       "      <td>2</td>\n",
       "      <td>0.0</td>\n",
       "      <td>0</td>\n",
       "      <td>HB</td>\n",
       "      <td>PRT</td>\n",
       "      <td>Groups</td>\n",
       "      <td>Direct</td>\n",
       "      <td>D</td>\n",
       "      <td>0</td>\n",
       "      <td>Non Refund</td>\n",
       "      <td>0</td>\n",
       "      <td>Transient</td>\n",
       "      <td>0</td>\n",
       "      <td>0</td>\n",
       "    </tr>\n",
       "    <tr>\n",
       "      <th>4997</th>\n",
       "      <td>Resort Hotel</td>\n",
       "      <td>1</td>\n",
       "      <td>2</td>\n",
       "      <td>0.0</td>\n",
       "      <td>0</td>\n",
       "      <td>HB</td>\n",
       "      <td>PRT</td>\n",
       "      <td>Groups</td>\n",
       "      <td>Direct</td>\n",
       "      <td>A</td>\n",
       "      <td>0</td>\n",
       "      <td>Non Refund</td>\n",
       "      <td>0</td>\n",
       "      <td>Transient</td>\n",
       "      <td>0</td>\n",
       "      <td>0</td>\n",
       "    </tr>\n",
       "    <tr>\n",
       "      <th>4998</th>\n",
       "      <td>Resort Hotel</td>\n",
       "      <td>1</td>\n",
       "      <td>2</td>\n",
       "      <td>0.0</td>\n",
       "      <td>0</td>\n",
       "      <td>HB</td>\n",
       "      <td>PRT</td>\n",
       "      <td>Groups</td>\n",
       "      <td>Direct</td>\n",
       "      <td>A</td>\n",
       "      <td>0</td>\n",
       "      <td>Non Refund</td>\n",
       "      <td>0</td>\n",
       "      <td>Transient</td>\n",
       "      <td>0</td>\n",
       "      <td>0</td>\n",
       "    </tr>\n",
       "    <tr>\n",
       "      <th>4999</th>\n",
       "      <td>Resort Hotel</td>\n",
       "      <td>1</td>\n",
       "      <td>2</td>\n",
       "      <td>0.0</td>\n",
       "      <td>0</td>\n",
       "      <td>HB</td>\n",
       "      <td>PRT</td>\n",
       "      <td>Groups</td>\n",
       "      <td>Direct</td>\n",
       "      <td>D</td>\n",
       "      <td>0</td>\n",
       "      <td>Non Refund</td>\n",
       "      <td>0</td>\n",
       "      <td>Transient</td>\n",
       "      <td>0</td>\n",
       "      <td>0</td>\n",
       "    </tr>\n",
       "  </tbody>\n",
       "</table>\n",
       "<p>5000 rows × 16 columns</p>\n",
       "</div>"
      ],
      "text/plain": [
       "             hotel  is_canceled  adults  children  babies meal country  \\\n",
       "0     Resort Hotel            0       2       0.0       0   BB     PRT   \n",
       "1     Resort Hotel            0       2       0.0       0   BB     PRT   \n",
       "2     Resort Hotel            0       1       0.0       0   BB     GBR   \n",
       "3     Resort Hotel            0       1       0.0       0   BB     GBR   \n",
       "4     Resort Hotel            0       2       0.0       0   BB     GBR   \n",
       "...            ...          ...     ...       ...     ...  ...     ...   \n",
       "4995  Resort Hotel            1       2       0.0       0   HB     PRT   \n",
       "4996  Resort Hotel            1       2       0.0       0   HB     PRT   \n",
       "4997  Resort Hotel            1       2       0.0       0   HB     PRT   \n",
       "4998  Resort Hotel            1       2       0.0       0   HB     PRT   \n",
       "4999  Resort Hotel            1       2       0.0       0   HB     PRT   \n",
       "\n",
       "     market_segment distribution_channel reserved_room_type  booking_changes  \\\n",
       "0            Direct               Direct                  C                3   \n",
       "1            Direct               Direct                  C                4   \n",
       "2            Direct               Direct                  A                0   \n",
       "3         Corporate            Corporate                  A                0   \n",
       "4         Online TA                TA/TO                  A                0   \n",
       "...             ...                  ...                ...              ...   \n",
       "4995         Groups               Direct                  D                0   \n",
       "4996         Groups               Direct                  D                0   \n",
       "4997         Groups               Direct                  A                0   \n",
       "4998         Groups               Direct                  A                0   \n",
       "4999         Groups               Direct                  D                0   \n",
       "\n",
       "     deposit_type  days_in_waiting_list customer_type  \\\n",
       "0      No Deposit                     0     Transient   \n",
       "1      No Deposit                     0     Transient   \n",
       "2      No Deposit                     0     Transient   \n",
       "3      No Deposit                     0     Transient   \n",
       "4      No Deposit                     0     Transient   \n",
       "...           ...                   ...           ...   \n",
       "4995   Non Refund                     0     Transient   \n",
       "4996   Non Refund                     0     Transient   \n",
       "4997   Non Refund                     0     Transient   \n",
       "4998   Non Refund                     0     Transient   \n",
       "4999   Non Refund                     0     Transient   \n",
       "\n",
       "      required_car_parking_spaces  required_car_parking_spaces  \n",
       "0                               0                            0  \n",
       "1                               0                            0  \n",
       "2                               0                            0  \n",
       "3                               0                            0  \n",
       "4                               0                            0  \n",
       "...                           ...                          ...  \n",
       "4995                            0                            0  \n",
       "4996                            0                            0  \n",
       "4997                            0                            0  \n",
       "4998                            0                            0  \n",
       "4999                            0                            0  \n",
       "\n",
       "[5000 rows x 16 columns]"
      ]
     },
     "execution_count": 4,
     "metadata": {},
     "output_type": "execute_result"
    }
   ],
   "source": [
    "data_ML=data[['hotel','is_canceled','adults','children','babies','meal','country','market_segment','distribution_channel','reserved_room_type','booking_changes','deposit_type','days_in_waiting_list','customer_type','required_car_parking_spaces','required_car_parking_spaces']].loc[:4999]\n",
    "data_ML"
   ]
  },
  {
   "cell_type": "markdown",
   "metadata": {},
   "source": [
    "**Missing Value**"
   ]
  },
  {
   "cell_type": "code",
   "execution_count": 5,
   "metadata": {},
   "outputs": [
    {
     "data": {
      "text/plain": [
       "hotel                          0\n",
       "is_canceled                    0\n",
       "adults                         0\n",
       "children                       0\n",
       "babies                         0\n",
       "meal                           0\n",
       "country                        2\n",
       "market_segment                 0\n",
       "distribution_channel           0\n",
       "reserved_room_type             0\n",
       "booking_changes                0\n",
       "deposit_type                   0\n",
       "days_in_waiting_list           0\n",
       "customer_type                  0\n",
       "required_car_parking_spaces    0\n",
       "required_car_parking_spaces    0\n",
       "dtype: int64"
      ]
     },
     "execution_count": 5,
     "metadata": {},
     "output_type": "execute_result"
    }
   ],
   "source": [
    "data_ML.isna().sum()"
   ]
  },
  {
   "cell_type": "code",
   "execution_count": 6,
   "metadata": {},
   "outputs": [
    {
     "name": "stdout",
     "output_type": "stream",
     "text": [
      "<class 'pandas.core.frame.DataFrame'>\n",
      "RangeIndex: 5000 entries, 0 to 4999\n",
      "Data columns (total 16 columns):\n",
      " #   Column                       Non-Null Count  Dtype  \n",
      "---  ------                       --------------  -----  \n",
      " 0   hotel                        5000 non-null   object \n",
      " 1   is_canceled                  5000 non-null   int64  \n",
      " 2   adults                       5000 non-null   int64  \n",
      " 3   children                     5000 non-null   float64\n",
      " 4   babies                       5000 non-null   int64  \n",
      " 5   meal                         5000 non-null   object \n",
      " 6   country                      4998 non-null   object \n",
      " 7   market_segment               5000 non-null   object \n",
      " 8   distribution_channel         5000 non-null   object \n",
      " 9   reserved_room_type           5000 non-null   object \n",
      " 10  booking_changes              5000 non-null   int64  \n",
      " 11  deposit_type                 5000 non-null   object \n",
      " 12  days_in_waiting_list         5000 non-null   int64  \n",
      " 13  customer_type                5000 non-null   object \n",
      " 14  required_car_parking_spaces  5000 non-null   int64  \n",
      " 15  required_car_parking_spaces  5000 non-null   int64  \n",
      "dtypes: float64(1), int64(7), object(8)\n",
      "memory usage: 625.1+ KB\n"
     ]
    }
   ],
   "source": [
    "data_ML.info()"
   ]
  },
  {
   "cell_type": "markdown",
   "metadata": {},
   "source": [
    "pada columns country memiliki Missing value, dan column bertipe object jadi akan di proses di preprocessing dan di encoding. Missing Value akan diisi dengan nilai yang sering muncul"
   ]
  },
  {
   "cell_type": "code",
   "execution_count": 39,
   "metadata": {},
   "outputs": [
    {
     "data": {
      "text/html": [
       "<div>\n",
       "<style scoped>\n",
       "    .dataframe tbody tr th:only-of-type {\n",
       "        vertical-align: middle;\n",
       "    }\n",
       "\n",
       "    .dataframe tbody tr th {\n",
       "        vertical-align: top;\n",
       "    }\n",
       "\n",
       "    .dataframe thead th {\n",
       "        text-align: right;\n",
       "    }\n",
       "</style>\n",
       "<table border=\"1\" class=\"dataframe\">\n",
       "  <thead>\n",
       "    <tr style=\"text-align: right;\">\n",
       "      <th></th>\n",
       "      <th>is_canceled</th>\n",
       "      <th>adults</th>\n",
       "      <th>children</th>\n",
       "      <th>babies</th>\n",
       "      <th>booking_changes</th>\n",
       "      <th>days_in_waiting_list</th>\n",
       "      <th>required_car_parking_spaces</th>\n",
       "      <th>total_of_special_requests</th>\n",
       "    </tr>\n",
       "  </thead>\n",
       "  <tbody>\n",
       "    <tr>\n",
       "      <th>count</th>\n",
       "      <td>5000.000000</td>\n",
       "      <td>5000.000000</td>\n",
       "      <td>5000.000000</td>\n",
       "      <td>5000.000000</td>\n",
       "      <td>5000.000000</td>\n",
       "      <td>5000.000000</td>\n",
       "      <td>5000.000000</td>\n",
       "      <td>5000.000000</td>\n",
       "    </tr>\n",
       "    <tr>\n",
       "      <th>mean</th>\n",
       "      <td>0.459600</td>\n",
       "      <td>1.969800</td>\n",
       "      <td>0.115600</td>\n",
       "      <td>0.014800</td>\n",
       "      <td>0.207200</td>\n",
       "      <td>1.772000</td>\n",
       "      <td>0.093800</td>\n",
       "      <td>0.602000</td>\n",
       "    </tr>\n",
       "    <tr>\n",
       "      <th>std</th>\n",
       "      <td>0.498415</td>\n",
       "      <td>1.566326</td>\n",
       "      <td>0.444833</td>\n",
       "      <td>0.122409</td>\n",
       "      <td>0.612489</td>\n",
       "      <td>13.545358</td>\n",
       "      <td>0.292948</td>\n",
       "      <td>0.823245</td>\n",
       "    </tr>\n",
       "    <tr>\n",
       "      <th>min</th>\n",
       "      <td>0.000000</td>\n",
       "      <td>0.000000</td>\n",
       "      <td>0.000000</td>\n",
       "      <td>0.000000</td>\n",
       "      <td>0.000000</td>\n",
       "      <td>0.000000</td>\n",
       "      <td>0.000000</td>\n",
       "      <td>0.000000</td>\n",
       "    </tr>\n",
       "    <tr>\n",
       "      <th>25%</th>\n",
       "      <td>0.000000</td>\n",
       "      <td>2.000000</td>\n",
       "      <td>0.000000</td>\n",
       "      <td>0.000000</td>\n",
       "      <td>0.000000</td>\n",
       "      <td>0.000000</td>\n",
       "      <td>0.000000</td>\n",
       "      <td>0.000000</td>\n",
       "    </tr>\n",
       "    <tr>\n",
       "      <th>50%</th>\n",
       "      <td>0.000000</td>\n",
       "      <td>2.000000</td>\n",
       "      <td>0.000000</td>\n",
       "      <td>0.000000</td>\n",
       "      <td>0.000000</td>\n",
       "      <td>0.000000</td>\n",
       "      <td>0.000000</td>\n",
       "      <td>0.000000</td>\n",
       "    </tr>\n",
       "    <tr>\n",
       "      <th>75%</th>\n",
       "      <td>1.000000</td>\n",
       "      <td>2.000000</td>\n",
       "      <td>0.000000</td>\n",
       "      <td>0.000000</td>\n",
       "      <td>0.000000</td>\n",
       "      <td>0.000000</td>\n",
       "      <td>0.000000</td>\n",
       "      <td>1.000000</td>\n",
       "    </tr>\n",
       "    <tr>\n",
       "      <th>max</th>\n",
       "      <td>1.000000</td>\n",
       "      <td>55.000000</td>\n",
       "      <td>10.000000</td>\n",
       "      <td>2.000000</td>\n",
       "      <td>17.000000</td>\n",
       "      <td>122.000000</td>\n",
       "      <td>2.000000</td>\n",
       "      <td>4.000000</td>\n",
       "    </tr>\n",
       "  </tbody>\n",
       "</table>\n",
       "</div>"
      ],
      "text/plain": [
       "       is_canceled       adults     children       babies  booking_changes  \\\n",
       "count  5000.000000  5000.000000  5000.000000  5000.000000      5000.000000   \n",
       "mean      0.459600     1.969800     0.115600     0.014800         0.207200   \n",
       "std       0.498415     1.566326     0.444833     0.122409         0.612489   \n",
       "min       0.000000     0.000000     0.000000     0.000000         0.000000   \n",
       "25%       0.000000     2.000000     0.000000     0.000000         0.000000   \n",
       "50%       0.000000     2.000000     0.000000     0.000000         0.000000   \n",
       "75%       1.000000     2.000000     0.000000     0.000000         0.000000   \n",
       "max       1.000000    55.000000    10.000000     2.000000        17.000000   \n",
       "\n",
       "       days_in_waiting_list  required_car_parking_spaces  \\\n",
       "count           5000.000000                  5000.000000   \n",
       "mean               1.772000                     0.093800   \n",
       "std               13.545358                     0.292948   \n",
       "min                0.000000                     0.000000   \n",
       "25%                0.000000                     0.000000   \n",
       "50%                0.000000                     0.000000   \n",
       "75%                0.000000                     0.000000   \n",
       "max              122.000000                     2.000000   \n",
       "\n",
       "       total_of_special_requests  \n",
       "count                5000.000000  \n",
       "mean                    0.602000  \n",
       "std                     0.823245  \n",
       "min                     0.000000  \n",
       "25%                     0.000000  \n",
       "50%                     0.000000  \n",
       "75%                     1.000000  \n",
       "max                     4.000000  "
      ]
     },
     "execution_count": 39,
     "metadata": {},
     "output_type": "execute_result"
    }
   ],
   "source": [
    "data_ML.describe()"
   ]
  },
  {
   "cell_type": "markdown",
   "metadata": {},
   "source": [
    "# **Preprocessing**"
   ]
  },
  {
   "cell_type": "markdown",
   "metadata": {},
   "source": [
    "**Processing scheme :**\n",
    "\n",
    "* binary : countyry,meal,market_segment,distribution_channel,reserved_room_type,deposit_type,customer_type\n",
    "#semua di binary karena column clasifikasi tdk memiliki tingkatan semua, atau termasuk dalam data nominal\n",
    "* Passthrough : is_canceled,adults,children,babies,booking_changes,days_in_waiting_list,required_car_parking_spaces,total_of_special_requests\n",
    "* Drop : Resort Hotel #karna tidak berpengaruh pada prediksi\n",
    "\n",
    "*tidak perlu scalling karena jarak satuan data ditiap column numeric tidak terlalu jauh, jadi Scalling langsung ke model KNN menggunanakan MinMax Scaller, karna KNN metode yang menggunkan jarak sehingga perlu scalling*"
   ]
  },
  {
   "cell_type": "code",
   "execution_count": 7,
   "metadata": {},
   "outputs": [
    {
     "data": {
      "text/html": [
       "<div>\n",
       "<style scoped>\n",
       "    .dataframe tbody tr th:only-of-type {\n",
       "        vertical-align: middle;\n",
       "    }\n",
       "\n",
       "    .dataframe tbody tr th {\n",
       "        vertical-align: top;\n",
       "    }\n",
       "\n",
       "    .dataframe thead th {\n",
       "        text-align: right;\n",
       "    }\n",
       "</style>\n",
       "<table border=\"1\" class=\"dataframe\">\n",
       "  <thead>\n",
       "    <tr style=\"text-align: right;\">\n",
       "      <th></th>\n",
       "      <th>hotel</th>\n",
       "      <th>meal</th>\n",
       "      <th>country</th>\n",
       "      <th>market_segment</th>\n",
       "      <th>distribution_channel</th>\n",
       "      <th>reserved_room_type</th>\n",
       "      <th>deposit_type</th>\n",
       "      <th>customer_type</th>\n",
       "    </tr>\n",
       "  </thead>\n",
       "  <tbody>\n",
       "    <tr>\n",
       "      <th>count</th>\n",
       "      <td>5000</td>\n",
       "      <td>5000</td>\n",
       "      <td>4998</td>\n",
       "      <td>5000</td>\n",
       "      <td>5000</td>\n",
       "      <td>5000</td>\n",
       "      <td>5000</td>\n",
       "      <td>5000</td>\n",
       "    </tr>\n",
       "    <tr>\n",
       "      <th>unique</th>\n",
       "      <td>1</td>\n",
       "      <td>5</td>\n",
       "      <td>56</td>\n",
       "      <td>6</td>\n",
       "      <td>3</td>\n",
       "      <td>9</td>\n",
       "      <td>3</td>\n",
       "      <td>4</td>\n",
       "    </tr>\n",
       "    <tr>\n",
       "      <th>top</th>\n",
       "      <td>Resort Hotel</td>\n",
       "      <td>BB</td>\n",
       "      <td>PRT</td>\n",
       "      <td>Online TA</td>\n",
       "      <td>TA/TO</td>\n",
       "      <td>A</td>\n",
       "      <td>No Deposit</td>\n",
       "      <td>Transient</td>\n",
       "    </tr>\n",
       "    <tr>\n",
       "      <th>freq</th>\n",
       "      <td>5000</td>\n",
       "      <td>3418</td>\n",
       "      <td>3174</td>\n",
       "      <td>2156</td>\n",
       "      <td>3657</td>\n",
       "      <td>3167</td>\n",
       "      <td>4461</td>\n",
       "      <td>3699</td>\n",
       "    </tr>\n",
       "  </tbody>\n",
       "</table>\n",
       "</div>"
      ],
      "text/plain": [
       "               hotel  meal country market_segment distribution_channel  \\\n",
       "count           5000  5000    4998           5000                 5000   \n",
       "unique             1     5      56              6                    3   \n",
       "top     Resort Hotel    BB     PRT      Online TA                TA/TO   \n",
       "freq            5000  3418    3174           2156                 3657   \n",
       "\n",
       "       reserved_room_type deposit_type customer_type  \n",
       "count                5000         5000          5000  \n",
       "unique                  9            3             4  \n",
       "top                     A   No Deposit     Transient  \n",
       "freq                 3167         4461          3699  "
      ]
     },
     "execution_count": 7,
     "metadata": {},
     "output_type": "execute_result"
    }
   ],
   "source": [
    "data_ML.describe(exclude='number')"
   ]
  },
  {
   "cell_type": "code",
   "execution_count": 34,
   "metadata": {},
   "outputs": [],
   "source": [
    "binary_encoder_pipe=Pipeline([\n",
    "    ('encoder',SimpleImputer(strategy='most_frequent')),\n",
    "    ('binary encoder',ce.BinaryEncoder())\n",
    "])"
   ]
  },
  {
   "cell_type": "code",
   "execution_count": 35,
   "metadata": {},
   "outputs": [],
   "source": [
    "transformer = ColumnTransformer([\n",
    "    ('binary',binary_encoder_pipe,['country','meal','market_segment','distribution_channel','reserved_room_type','deposit_type','customer_type']),\n",
    "    ],remainder='passthrough')"
   ]
  },
  {
   "cell_type": "code",
   "execution_count": 36,
   "metadata": {},
   "outputs": [
    {
     "data": {
      "text/plain": [
       "ColumnTransformer(remainder='passthrough',\n",
       "                  transformers=[('binary',\n",
       "                                 Pipeline(steps=[('encoder',\n",
       "                                                  SimpleImputer(strategy='most_frequent')),\n",
       "                                                 ('binary encoder',\n",
       "                                                  BinaryEncoder())]),\n",
       "                                 ['country', 'meal', 'market_segment',\n",
       "                                  'distribution_channel', 'reserved_room_type',\n",
       "                                  'deposit_type', 'customer_type'])])"
      ]
     },
     "execution_count": 36,
     "metadata": {},
     "output_type": "execute_result"
    }
   ],
   "source": [
    "transformer"
   ]
  },
  {
   "cell_type": "code",
   "execution_count": 37,
   "metadata": {},
   "outputs": [
    {
     "data": {
      "text/plain": [
       "array([[0, 0, 0, ..., 0, 0, 0],\n",
       "       [0, 0, 0, ..., 0, 0, 0],\n",
       "       [0, 0, 0, ..., 0, 0, 0],\n",
       "       ...,\n",
       "       [0, 0, 0, ..., 0, 0, 0],\n",
       "       [0, 0, 0, ..., 0, 0, 0],\n",
       "       [0, 0, 0, ..., 0, 0, 0]], dtype=object)"
      ]
     },
     "execution_count": 37,
     "metadata": {},
     "output_type": "execute_result"
    }
   ],
   "source": [
    "#test trasformer\n",
    "transformer.fit_transform(data_ML)"
   ]
  },
  {
   "cell_type": "markdown",
   "metadata": {},
   "source": [
    "**Outlier**"
   ]
  },
  {
   "cell_type": "code",
   "execution_count": 167,
   "metadata": {},
   "outputs": [],
   "source": [
    "q1 = data.quantile(0.25)\n",
    "q3 = data.quantile(0.75)\n",
    "IQR = q3-q1"
   ]
  },
  {
   "cell_type": "code",
   "execution_count": 168,
   "metadata": {},
   "outputs": [
    {
     "data": {
      "text/plain": [
       "adr                                3.176983\n",
       "adults                            24.884831\n",
       "agent                              0.000000\n",
       "arrival_date_day_of_month          0.000000\n",
       "arrival_date_month                 0.000000\n",
       "arrival_date_week_number           0.000000\n",
       "arrival_date_year                  0.000000\n",
       "assigned_room_type                 0.000000\n",
       "babies                             0.768071\n",
       "booking_changes                   15.140297\n",
       "children                           7.194907\n",
       "company                            0.000000\n",
       "country                            0.000000\n",
       "customer_type                      0.000000\n",
       "days_in_waiting_list               3.097412\n",
       "deposit_type                       0.000000\n",
       "distribution_channel               0.000000\n",
       "hotel                              0.000000\n",
       "is_canceled                        0.000000\n",
       "is_repeated_guest                  3.191222\n",
       "lead_time                          2.516961\n",
       "market_segment                     0.000000\n",
       "meal                               0.000000\n",
       "previous_bookings_not_canceled     3.032080\n",
       "previous_cancellations             5.430941\n",
       "required_car_parking_spaces        6.211576\n",
       "reservation_status                 0.000000\n",
       "reservation_status_date            0.000000\n",
       "reserved_room_type                 0.000000\n",
       "stays_in_week_nights               2.809281\n",
       "stays_in_weekend_nights            0.221962\n",
       "total_of_special_requests          2.409750\n",
       "dtype: float64"
      ]
     },
     "execution_count": 168,
     "metadata": {},
     "output_type": "execute_result"
    }
   ],
   "source": [
    "((data < (q1-1.5*IQR)) | (data > (q3+1.5*IQR))).sum()/len(data)*100"
   ]
  },
  {
   "cell_type": "markdown",
   "metadata": {},
   "source": [
    "Data memiliki banyak outlier , sehingga bisa digunakan metode yang tidak sensitif terhap outlier"
   ]
  },
  {
   "cell_type": "markdown",
   "metadata": {},
   "source": [
    "# C. Model Benchmark & Evaluation Metric (40 poin)"
   ]
  },
  {
   "cell_type": "raw",
   "metadata": {},
   "source": [
    "Pilihlah setidaknya 3 model machine learning yang Anda pahami untuk mendapatkan benchmark model ML untuk memprediksi apakah user akan cancel booking atau tidak!\n",
    "Jelaskan secara singkat cara kerja model ML yang Anda gunakan!"
   ]
  },
  {
   "cell_type": "markdown",
   "metadata": {},
   "source": [
    "**Define Model**"
   ]
  },
  {
   "cell_type": "code",
   "execution_count": 38,
   "metadata": {},
   "outputs": [],
   "source": [
    "logreg = LogisticRegression()\n",
    "tree = DecisionTreeClassifier(random_state = 1414)\n",
    "knn = KNeighborsClassifier()\n",
    "rf = RandomForestClassifier(random_state = 1414 )"
   ]
  },
  {
   "cell_type": "markdown",
   "metadata": {},
   "source": [
    "**Data Splitting**"
   ]
  },
  {
   "cell_type": "code",
   "execution_count": 39,
   "metadata": {},
   "outputs": [],
   "source": [
    "X= data_ML.drop(['is_canceled','hotel'],axis=1)\n",
    "y= data_ML['is_canceled']"
   ]
  },
  {
   "cell_type": "code",
   "execution_count": 40,
   "metadata": {},
   "outputs": [
    {
     "data": {
      "text/plain": [
       "(5000, 14)"
      ]
     },
     "execution_count": 40,
     "metadata": {},
     "output_type": "execute_result"
    }
   ],
   "source": [
    "X.shape"
   ]
  },
  {
   "cell_type": "code",
   "execution_count": 41,
   "metadata": {},
   "outputs": [],
   "source": [
    "X_train,X_test,y_train,y_test=train_test_split(X,y,stratify=y,test_size=0.3,random_state=1414)"
   ]
  },
  {
   "cell_type": "code",
   "execution_count": 42,
   "metadata": {},
   "outputs": [],
   "source": [
    "#splitting data untuk train dan tes, menggunakan random state 1414 karna x.shape 15(namun random state bisa menggunakan angka berapa saja)"
   ]
  },
  {
   "cell_type": "markdown",
   "metadata": {},
   "source": [
    "**Modelling**"
   ]
  },
  {
   "cell_type": "code",
   "execution_count": 170,
   "metadata": {},
   "outputs": [],
   "source": [
    "logreg_pipe = Pipeline([\n",
    "    ('transform',transformer),\n",
    "    ('scaler',RobustScaler()),\n",
    "    ('logreg',logreg)\n",
    "])\n",
    "\n",
    "tree_pipe= Pipeline([\n",
    "    ('transform',transformer),\n",
    "    ('tree',tree)\n",
    "])\n",
    "\n",
    "knn_pipe =Pipeline([\n",
    "    ('transform',transformer),\n",
    "    ('scaler',MinMaxScaler()),\n",
    "    ('knn',knn)\n",
    "])\n",
    "\n",
    "rf_pipe = Pipeline([\n",
    "    ('transform',transformer),\n",
    "    ('rf',rf)\n",
    "])"
   ]
  },
  {
   "cell_type": "markdown",
   "metadata": {},
   "source": [
    "Target data merupakan clasifikasi(1,0) maka akan menggunakan metode Classifikasi dari Supervised Learning\n",
    "\n",
    "*Model yang akan di coba ada 4 yaitu logisticregression, Decision Tree, KNN dan Random Forest. Sebenarnya masih ada model lain dari Classifikasi yakni Boosting, namun boosting cukup memakan waktu dalam prosesnya. jadi Bossting akan dijadikan pilihan terakhir apabila nilai accuracy masih rendah*\n",
    "\n",
    "**Cara Kerja Model**\n",
    ">**Logistic Regression**\n",
    "*cara kerja dengan melihat kesuksesan peluang dari klas (1 &0), biasanya Logistic regression memiliki nilai yang stabil dibanding yang lain. pada model logistic regresi dilakukan scalling karena ada beberapa column numeric yang memiliki outlier dan scaling yng digunakan robust scaller yang tahan terhdap outlier*\n",
    "\n",
    ">**Decision Tree**\n",
    "*Model ini merupakan model non parametic dengan cara kerja splitting data hingga data tersebut menjadi homogen (serangkaian question yes/no untuk mencapai suatu klas(kelas 1/0)*\n",
    "\n",
    ">**KNN**\n",
    "*Model ini juga digunakan untuk metode non parametic, bekerja dengan cara melihat data dari tetangganya, dan ikut klas mayoritas dari tetangganya. KNN memiliki hasil prediksi yang cukup baik, dan KNN perlu di scalling untuk meminimalisir dominasi dari feature yang besar, sehingga feature yang kecil masih terlihat perannya*\n",
    "\n",
    ">**Random Forest**\n",
    "*Memiliki cara kerja yang mirip dengan Decission Tree, namun Randomforest membuat banyak pohon, bukan hanya 1 pohon dan sample diboostrap dan pengambilan feature secara random. kelebihan dari random forest adalah bisa menyesuaikan data*"
   ]
  },
  {
   "cell_type": "raw",
   "metadata": {},
   "source": [
    "Ada 2 jenis kesalahan yang mungkin terjadi dalam model ML di studi kasus ini, yaitu:\n",
    "Model memprediksi user akan cancel booking (membatalkan pesanan), padahal sebenarnya/realisasinya user tidak membatalkan pesanan.\n",
    "Model memprediksi user tidak membatalkan pesanan, padahal sebenarnya/realisasinya user cancel booking (membatalkan pesanan).\n",
    "Dalam konteks bisnis perhotelan, apabila pengunjung diasumsikan tidak cancel booking maka pihak hotel akan menyiapkan beberapa hal untuk menyambut kedatangan mereka, di antaranya:\n",
    "\n",
    "Menghubungi pengunjung terkait kapan perkiraan datang ke hotel,\n",
    "Membersihkan, merapikan, dan menyiapkan kamar sesuai pesanan pengunjung,\n",
    "Menyiapkan makanan dan minuman untuk menyambut kedatangan pengunjung,\n",
    "Menolak pengunjung lain yang memesan kamar yang telah dipesan (booked room), dan\n",
    "Memberi layanan penjemputan di bandara/stasiun/terminal apabila diperlukan.\n",
    "a. Pilih jenis kesalahan yang paling berpengaruh pada kerugian finansial perusahaan dan jelaskan alasan pilihan Anda!\n",
    "\n",
    "b. Pilih evaluation metric yang bisa menekan jenis kesalahan yang Anda pilih! Berikan alasan!"
   ]
  },
  {
   "cell_type": "markdown",
   "metadata": {},
   "source": [
    "**Analysis**"
   ]
  },
  {
   "cell_type": "markdown",
   "metadata": {},
   "source": [
    "* *0 = No Cancel*\n",
    "* *1 = cancel*\n",
    "\n",
    "        - TN: Pengunjung yang diprediksi tidak cancel, actualnya tidak cancel\n",
    "        - TP: Pengunjung yang diprediksi akan cancel, actualnya memang cancel\n",
    "        - FP: Pengunjung yang diprediksi akan cancel, actualnya tidak cancel\n",
    "        - FN: Pengunjung yang diprediksi tidak cancel, actualnya cancel\n",
    "\n",
    "2 Kesalahan yang terjadi:\n",
    "* FP: Salah prediksi, hotel hanya kehilangan pengunjung yang akan menginap.\n",
    "* FN: Perusahaan lebih rugi waktu, tenaga dan financial, karena telah menyiapkan segala sesuatu untuk kedatangan pengunjung termasuk menolak pengunjung lain, namun ternyata cancel.\n",
    "\n",
    "**A. jadi kesalahan yang paling berpengaruh untuk kerugian financial adalah FN**\n",
    "\n",
    "**B. Metric evaluasi yang dipilih adalah Recall karena akan menekan nilai FN, Nilai FN dan Recall berbanding terbalik**"
   ]
  },
  {
   "cell_type": "markdown",
   "metadata": {},
   "source": [
    "**Cek Balancing Data**"
   ]
  },
  {
   "cell_type": "code",
   "execution_count": 44,
   "metadata": {},
   "outputs": [
    {
     "data": {
      "text/plain": [
       "0    54.04\n",
       "1    45.96\n",
       "Name: is_canceled, dtype: float64"
      ]
     },
     "execution_count": 44,
     "metadata": {},
     "output_type": "execute_result"
    }
   ],
   "source": [
    "data_ML['is_canceled'].value_counts()/data_ML.shape[0]*100"
   ]
  },
  {
   "cell_type": "markdown",
   "metadata": {},
   "source": [
    "sebenranya tidak ada indikasi imbalance dataset karna perbedaan di bawah 10%, namun jika nilai accuracy yg didapat masih rendah maka bisa di coba untuk balancing data set agar 50:50. "
   ]
  },
  {
   "cell_type": "markdown",
   "metadata": {},
   "source": [
    "**Cross Validation**"
   ]
  },
  {
   "cell_type": "code",
   "execution_count": 171,
   "metadata": {},
   "outputs": [],
   "source": [
    "def model_evaluation(model, metric):\n",
    "    skfold = StratifiedKFold(n_splits = 5)\n",
    "    model_cv = cross_val_score(model, X_train, y_train, cv = skfold, scoring = metric)\n",
    "    return model_cv"
   ]
  },
  {
   "cell_type": "code",
   "execution_count": 172,
   "metadata": {},
   "outputs": [],
   "source": [
    "logreg_pipe_cv = model_evaluation(logreg_pipe, 'recall')\n",
    "tree_pipe_cv = model_evaluation(tree_pipe, 'recall')\n",
    "knn_pipe_cv = model_evaluation(knn_pipe, 'recall')\n",
    "rf_pipe_cv = model_evaluation(rf_pipe,'recall')"
   ]
  },
  {
   "cell_type": "markdown",
   "metadata": {},
   "source": [
    "**Fitting Data**"
   ]
  },
  {
   "cell_type": "code",
   "execution_count": 173,
   "metadata": {},
   "outputs": [],
   "source": [
    "for model in [logreg_pipe, tree_pipe, knn_pipe, rf_pipe]:\n",
    "    model.fit(X_train, y_train)"
   ]
  },
  {
   "cell_type": "markdown",
   "metadata": {},
   "source": [
    "**Result**"
   ]
  },
  {
   "cell_type": "code",
   "execution_count": 174,
   "metadata": {},
   "outputs": [
    {
     "data": {
      "text/html": [
       "<div>\n",
       "<style scoped>\n",
       "    .dataframe tbody tr th:only-of-type {\n",
       "        vertical-align: middle;\n",
       "    }\n",
       "\n",
       "    .dataframe tbody tr th {\n",
       "        vertical-align: top;\n",
       "    }\n",
       "\n",
       "    .dataframe thead th {\n",
       "        text-align: right;\n",
       "    }\n",
       "</style>\n",
       "<table border=\"1\" class=\"dataframe\">\n",
       "  <thead>\n",
       "    <tr style=\"text-align: right;\">\n",
       "      <th></th>\n",
       "      <th>method</th>\n",
       "      <th>mean score</th>\n",
       "      <th>std score</th>\n",
       "      <th>recall score</th>\n",
       "    </tr>\n",
       "  </thead>\n",
       "  <tbody>\n",
       "    <tr>\n",
       "      <th>0</th>\n",
       "      <td>Logistic Regression</td>\n",
       "      <td>0.935367</td>\n",
       "      <td>0.016232</td>\n",
       "      <td>0.927431</td>\n",
       "    </tr>\n",
       "    <tr>\n",
       "      <th>1</th>\n",
       "      <td>Decision Tree Classifier</td>\n",
       "      <td>0.885016</td>\n",
       "      <td>0.023682</td>\n",
       "      <td>0.896952</td>\n",
       "    </tr>\n",
       "    <tr>\n",
       "      <th>2</th>\n",
       "      <td>KNN Classifier</td>\n",
       "      <td>0.904307</td>\n",
       "      <td>0.020484</td>\n",
       "      <td>0.908563</td>\n",
       "    </tr>\n",
       "    <tr>\n",
       "      <th>3</th>\n",
       "      <td>Random Forest Classifier</td>\n",
       "      <td>0.898073</td>\n",
       "      <td>0.018780</td>\n",
       "      <td>0.910015</td>\n",
       "    </tr>\n",
       "  </tbody>\n",
       "</table>\n",
       "</div>"
      ],
      "text/plain": [
       "                     method  mean score  std score  recall score\n",
       "0       Logistic Regression    0.935367   0.016232      0.927431\n",
       "1  Decision Tree Classifier    0.885016   0.023682      0.896952\n",
       "2            KNN Classifier    0.904307   0.020484      0.908563\n",
       "3  Random Forest Classifier    0.898073   0.018780      0.910015"
      ]
     },
     "execution_count": 174,
     "metadata": {},
     "output_type": "execute_result"
    }
   ],
   "source": [
    "score_mean = [logreg_pipe_cv.mean(), tree_pipe_cv.mean(), knn_pipe_cv.mean(),\n",
    "              rf_pipe_cv.mean()]\n",
    "score_std = [logreg_pipe_cv.std(), tree_pipe_cv.std(), knn_pipe_cv.std(),\n",
    "             rf_pipe_cv.std()]\n",
    "score_recall_score = [recall_score(y_test, logreg_pipe.predict(X_test)),\n",
    "            recall_score(y_test, tree_pipe.predict(X_test)), \n",
    "            recall_score(y_test, knn_pipe.predict(X_test)), \n",
    "            recall_score(y_test, rf_pipe.predict(X_test))]\n",
    "method_name = ['Logistic Regression', 'Decision Tree Classifier',\n",
    "              'KNN Classifier', 'Random Forest Classifier']\n",
    "cv_result = pd.DataFrame({\n",
    "    'method': method_name,\n",
    "    'mean score': score_mean,\n",
    "    'std score': score_std,\n",
    "    'recall score': score_recall_score\n",
    "})\n",
    "cv_result"
   ]
  },
  {
   "cell_type": "markdown",
   "metadata": {},
   "source": [
    "Dari perbandingan hasil diatas, maka akan dipilih model logistic regresi karena memiliki nilai recall paling tinggi dan std yg rendah"
   ]
  },
  {
   "cell_type": "markdown",
   "metadata": {},
   "source": [
    "# D. Hyperparameter Tunning"
   ]
  },
  {
   "cell_type": "markdown",
   "metadata": {},
   "source": [
    "karena performa model belum cukup memuaskan maka akan dicoba dilakukan hyperparameter tunning untuk meningkatkan performa model serta melihat untuk case ini perlu dilakukan tunning atau tidak"
   ]
  },
  {
   "cell_type": "code",
   "execution_count": 49,
   "metadata": {},
   "outputs": [
    {
     "name": "stdout",
     "output_type": "stream",
     "text": [
      "best score 0.9353669627135698\n",
      "best param {'model__solver': 'liblinear', 'model__C': 10}\n"
     ]
    }
   ],
   "source": [
    "estimator = Pipeline([\n",
    "    ('transform',transformer),\n",
    "    ('model',logreg)\n",
    "])\n",
    "\n",
    "hyperparam_space = {\n",
    "    'model__C': [100, 10, 1, 0.1, 0.01, 0.001],\n",
    "    'model__solver': ['liblinear', 'newton-cg']\n",
    "}\n",
    "\n",
    "random = RandomizedSearchCV(\n",
    "                estimator,\n",
    "                param_distributions = hyperparam_space,\n",
    "                cv = StratifiedKFold(n_splits = 5),\n",
    "                scoring = 'recall',\n",
    "                n_iter = 10,\n",
    "                n_jobs = -1)\n",
    "\n",
    "random.fit(X_train, y_train)\n",
    "\n",
    "print('best score', random.best_score_)\n",
    "print('best param', random.best_params_)"
   ]
  },
  {
   "cell_type": "markdown",
   "metadata": {},
   "source": [
    "Berdasarkan proses modelling diatas, maka model terbaik adalah :\n",
    "Logistic regresi dengan solver 'newton-cg',dan model 1\n",
    "    "
   ]
  },
  {
   "cell_type": "markdown",
   "metadata": {},
   "source": [
    "# Before Vs After Tunning"
   ]
  },
  {
   "cell_type": "code",
   "execution_count": 50,
   "metadata": {},
   "outputs": [],
   "source": [
    "estimator.fit(X_train, y_train)\n",
    "y_pred_estimator = estimator.predict(X_test)\n",
    "recall_estimator = recall_score(y_test, y_pred_estimator)\n",
    "\n",
    "random.best_estimator_.fit(X_train, y_train)\n",
    "y_pred_random = random.best_estimator_.predict(X_test)\n",
    "recall_best_estimator = recall_score(y_test, y_pred_random)"
   ]
  },
  {
   "cell_type": "code",
   "execution_count": 51,
   "metadata": {},
   "outputs": [
    {
     "data": {
      "text/html": [
       "<div>\n",
       "<style scoped>\n",
       "    .dataframe tbody tr th:only-of-type {\n",
       "        vertical-align: middle;\n",
       "    }\n",
       "\n",
       "    .dataframe tbody tr th {\n",
       "        vertical-align: top;\n",
       "    }\n",
       "\n",
       "    .dataframe thead th {\n",
       "        text-align: right;\n",
       "    }\n",
       "</style>\n",
       "<table border=\"1\" class=\"dataframe\">\n",
       "  <thead>\n",
       "    <tr style=\"text-align: right;\">\n",
       "      <th></th>\n",
       "      <th>method</th>\n",
       "      <th>score</th>\n",
       "    </tr>\n",
       "  </thead>\n",
       "  <tbody>\n",
       "    <tr>\n",
       "      <th>0</th>\n",
       "      <td>Logreg Before</td>\n",
       "      <td>0.927431</td>\n",
       "    </tr>\n",
       "    <tr>\n",
       "      <th>1</th>\n",
       "      <td>Logreg After</td>\n",
       "      <td>0.933237</td>\n",
       "    </tr>\n",
       "  </tbody>\n",
       "</table>\n",
       "</div>"
      ],
      "text/plain": [
       "          method     score\n",
       "0  Logreg Before  0.927431\n",
       "1   Logreg After  0.933237"
      ]
     },
     "execution_count": 51,
     "metadata": {},
     "output_type": "execute_result"
    }
   ],
   "source": [
    "score_list = [recall_estimator, recall_best_estimator]\n",
    "method_name = ['Logreg Before', 'Logreg After']\n",
    "best_summary = pd.DataFrame({\n",
    "    'method': method_name,\n",
    "    'score': score_list\n",
    "})\n",
    "best_summary"
   ]
  },
  {
   "cell_type": "markdown",
   "metadata": {},
   "source": [
    "Setelah dilakukan HyperparameterTunning performa model naik dari 0,92 menjadi 0,93, sehingga akan dipilih model aftertunning"
   ]
  },
  {
   "cell_type": "markdown",
   "metadata": {},
   "source": [
    "# Summary"
   ]
  },
  {
   "cell_type": "markdown",
   "metadata": {},
   "source": [
    "\n",
    "Setelah Anda memilih benchmark model terbaik, lakukan hyperparameter tunning untuk meningkatkan preforma model Anda! Parameter apa saja yang anda pilih untuk tunning? Jelaskan maksud dari tiap-tiap parameter tersebut!\n",
    "\n",
    "Bagaimana performa model Anda setelah Hyper-parameter Tuning? Apakah ada tahap lanjutan yang bisa Anda lakukan untuk meningkatkan performa model lebih jauh? Buat kesimpulan akhir, model mana yang akan Anda pakai untuk memprediksi apakah user akan cancel booking atau tidak!"
   ]
  },
  {
   "cell_type": "markdown",
   "metadata": {},
   "source": [
    "Menggunakan Randomize tunning karena random memiliki proses yang cepat dan tidak terlalu berat karena memilih parameter secara random, sedangkan GridSearch memilih semua kemungkinan pasangan dari setiap parameternya.\n",
    "parameter yang digunakan untuk tunning:\n",
    "**'model__C': [100, 10, 1, 0.1, 0.01, 0.001]**\n",
    "**'model__solver': ['liblinear', 'newton-cg']**\n",
    "C memiliki 6 hyperparameter  \n",
    "cross validasi: 5 fold  \n",
    "dan model solver yg akan di coba adalah liblinear dan newton-cg untuk perbandingan"
   ]
  },
  {
   "cell_type": "raw",
   "metadata": {},
   "source": [
    "model yang akan dipilih adalah model setelah tunning :\n",
    "model : logistic regresi dengan solver newton-cg\n",
    "        C = 1\n",
    "        scaling menggunkan robust scaller\n",
    "        dan di transform\n",
    "Modelling sampai disini karena sudah mendapatkan nilai recall yg tinggi"
   ]
  },
  {
   "cell_type": "markdown",
   "metadata": {},
   "source": [
    "# Saving Model"
   ]
  },
  {
   "cell_type": "code",
   "execution_count": null,
   "metadata": {},
   "outputs": [],
   "source": [
    "joblib.dump(grid.best_estimator_,'hotelbook')"
   ]
  }
 ],
 "metadata": {
  "kernelspec": {
   "display_name": "Python 3",
   "language": "python",
   "name": "python3"
  },
  "language_info": {
   "codemirror_mode": {
    "name": "ipython",
    "version": 3
   },
   "file_extension": ".py",
   "mimetype": "text/x-python",
   "name": "python",
   "nbconvert_exporter": "python",
   "pygments_lexer": "ipython3",
   "version": "3.8.3"
  }
 },
 "nbformat": 4,
 "nbformat_minor": 4
}
